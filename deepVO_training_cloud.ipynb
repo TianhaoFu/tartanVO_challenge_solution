{
 "cells": [
  {
   "cell_type": "code",
   "execution_count": 1,
   "metadata": {
    "colab": {},
    "colab_type": "code",
    "id": "J6t862-ZtG5p"
   },
   "outputs": [],
   "source": [
    "# !pip install -U pip\n",
    "# !pip install sklearn\n",
    "# !pip install numpy\n",
    "# !pip install azure-storage-blob\n",
    "# !pip install opencv-python\n",
    "# !pip install torch torchvision\n",
    "# !pip install timeout_decorator"
   ]
  },
  {
   "cell_type": "code",
   "execution_count": 1,
   "metadata": {},
   "outputs": [],
   "source": [
    "from model import DeepVONet"
   ]
  },
  {
   "cell_type": "code",
   "execution_count": 2,
   "metadata": {
    "colab": {},
    "colab_type": "code",
    "id": "NUik8kZ0knv7"
   },
   "outputs": [
    {
     "name": "stdout",
     "output_type": "stream",
     "text": [
      "timeouts set to 5\n"
     ]
    }
   ],
   "source": [
    "from deepvo import *\n"
   ]
  },
  {
   "cell_type": "code",
   "execution_count": 3,
   "metadata": {
    "colab": {},
    "colab_type": "code",
    "id": "JJnrRZZ4QO1F"
   },
   "outputs": [],
   "source": [
    "\n",
    "if USE_TPU:\n",
    "    VERSION = \"20200325\"  #@param [\"1.5\" , \"20200325\", \"nightly\"]\n",
    "    !curl https://raw.githubusercontent.com/pytorch/xla/master/contrib/scripts/env-setup.py -o pytorch-xla-env-setup.py\n",
    "    !python pytorch-xla-env-setup.py --version $VERSION"
   ]
  },
  {
   "cell_type": "code",
   "execution_count": 4,
   "metadata": {},
   "outputs": [],
   "source": [
    "# torch.set_num_interop_threads(6)\n",
    "# torch.set_num_threads(32)\n"
   ]
  },
  {
   "cell_type": "code",
   "execution_count": 5,
   "metadata": {
    "colab": {},
    "colab_type": "code",
    "id": "tjMZrv6GtG51"
   },
   "outputs": [
    {
     "data": {
      "text/plain": [
       "False"
      ]
     },
     "execution_count": 5,
     "metadata": {},
     "output_type": "execute_result"
    }
   ],
   "source": [
    "torch.cuda.is_available()"
   ]
  },
  {
   "cell_type": "markdown",
   "metadata": {
    "colab_type": "text",
    "id": "2fjzCjqPttp0"
   },
   "source": []
  },
  {
   "cell_type": "code",
   "execution_count": 6,
   "metadata": {
    "colab": {},
    "colab_type": "code",
    "id": "liSKf9RotG6j"
   },
   "outputs": [
    {
     "name": "stdout",
     "output_type": "stream",
     "text": [
      "Find 18 environments..\n",
      "['abandonedfactory/', 'abandonedfactory_night/', 'amusement/', 'carwelding/', 'endofworld/', 'gascola/', 'hospital/', 'japanesealley/', 'neighborhood/', 'ocean/', 'office/', 'office2/', 'oldtown/', 'seasidetown/', 'seasonsforest/', 'seasonsforest_winter/', 'soulcity/', 'westerndesert/']\n"
     ]
    }
   ],
   "source": [
    "envlist = get_environment_list()\n",
    "print('Find {} environments..'.format(len(envlist)))\n",
    "print(envlist)"
   ]
  },
  {
   "cell_type": "code",
   "execution_count": 7,
   "metadata": {
    "colab": {},
    "colab_type": "code",
    "id": "Xx4ntuSltG6q"
   },
   "outputs": [],
   "source": [
    "envlist = ['abandonedfactory/', 'abandonedfactory_night/', 'amusement/', 'carwelding/', 'endofworld/', 'gascola/', 'hospital/', 'japanesealley/', 'neighborhood/', 'ocean/', 'office/', 'office2/', 'oldtown/', 'seasidetown/', 'seasonsforest/', 'seasonsforest_winter/', 'soulcity/', 'westerndesert/']"
   ]
  },
  {
   "cell_type": "code",
   "execution_count": 8,
   "metadata": {
    "colab": {},
    "colab_type": "code",
    "id": "KKh2twj-tG6w"
   },
   "outputs": [
    {
     "name": "stdout",
     "output_type": "stream",
     "text": [
      "Find 12 trajectories in abandonedfactory/Hard\n",
      "['abandonedfactory/Hard/P000/', 'abandonedfactory/Hard/P001/', 'abandonedfactory/Hard/P002/', 'abandonedfactory/Hard/P003/', 'abandonedfactory/Hard/P004/', 'abandonedfactory/Hard/P005/', 'abandonedfactory/Hard/P006/', 'abandonedfactory/Hard/P007/', 'abandonedfactory/Hard/P008/', 'abandonedfactory/Hard/P009/', 'abandonedfactory/Hard/P010/', 'abandonedfactory/Hard/P011/']\n"
     ]
    }
   ],
   "source": [
    "diff_level = 'Hard'\n",
    "env_ind = 0\n",
    "trajlist = get_trajectory_list(envlist[env_ind], easy_hard = diff_level)\n",
    "print('Find {} trajectories in {}'.format(len(trajlist), envlist[env_ind]+diff_level))\n",
    "print(trajlist)"
   ]
  },
  {
   "cell_type": "code",
   "execution_count": 9,
   "metadata": {
    "colab": {},
    "colab_type": "code",
    "id": "3LL0t1GDtG61"
   },
   "outputs": [],
   "source": [
    "global_data_list = []"
   ]
  },
  {
   "cell_type": "code",
   "execution_count": 12,
   "metadata": {
    "colab": {},
    "colab_type": "code",
    "id": "OyMkx0EctG68"
   },
   "outputs": [],
   "source": [
    "# [[ global_data_list.extend(get_trajectory_list(env, easy_hard=diff_level)) for diff_level in [\"Hard\", \"Easy\"]] for env in envlist]"
   ]
  },
  {
   "cell_type": "code",
   "execution_count": 13,
   "metadata": {
    "colab": {},
    "colab_type": "code",
    "id": "B8OU6aOQtG7D"
   },
   "outputs": [],
   "source": [
    "# train_list, test_list = train_test_split(global_data_list, test_size=10, random_state=12)"
   ]
  },
  {
   "cell_type": "code",
   "execution_count": 14,
   "metadata": {
    "colab": {},
    "colab_type": "code",
    "id": "FcRzrDMWtG7L"
   },
   "outputs": [],
   "source": [
    "# train_list, val_list = train_test_split(train_list, test_size=10, random_state=12)"
   ]
  },
  {
   "cell_type": "code",
   "execution_count": 15,
   "metadata": {
    "colab": {},
    "colab_type": "code",
    "id": "wiehxvDxk3Xk"
   },
   "outputs": [],
   "source": [
    "# from google.colab import drive\n",
    "# drive.mount('/content/drive')"
   ]
  },
  {
   "cell_type": "code",
   "execution_count": 16,
   "metadata": {
    "colab": {},
    "colab_type": "code",
    "id": "IqQlKth5mAmq"
   },
   "outputs": [],
   "source": [
    "# kwargs = {'num_workers': 1, 'pin_memory': True} if torch.cuda.is_available() else {} #check again\n",
    "# val_batch_size = 2#len(val_list)\n",
    "# val_datapath = [get_image_list(trajectory, left_right=\"left\") for trajectory in val_list[:2]]\n",
    "\n",
    "# test_loader = torch.utils.data.DataLoader(VisualOdometryDataLoader(val_datapath, \n",
    "#                                                                 trajectory_length=10, \n",
    "#                                                                 transform=preprocess, \n",
    "#                                                                 test=True), \n",
    "#                                           batch_size=val_batch_size, \n",
    "#                                           shuffle=False, **kwargs)\n",
    "# for batch_idx, (images_stacked, odometries_stacked) in tqdm(enumerate(test_loader)):\n",
    "#     images_stacked = images_stacked.permute(1, 0, 2, 3, 4)\n",
    "\n",
    "#     for t in range(10):\n",
    "#         f, axarr = plt.subplots(1,2, figsize=(25,25))\n",
    "#         axarr[0].imshow(unnormalize(images_stacked[t][0][:3]).data.cpu().numpy().transpose((1, 2, 0)))\n",
    "#         axarr[1].imshow(unnormalize(images_stacked[t][0][3:]).data.cpu().numpy().transpose((1, 2, 0)))\n",
    "#         plt.show()\n",
    "    "
   ]
  },
  {
   "cell_type": "code",
   "execution_count": 17,
   "metadata": {
    "colab": {},
    "colab_type": "code",
    "id": "I5aJUM6xtG9t"
   },
   "outputs": [],
   "source": [
    "# # if __name__ == \"__main__\":\n",
    "# parser = argparse.ArgumentParser(description='PyTorch on Place Recognition + Visual Odometry')\n",
    "\n",
    "# parser.add_argument('--mode', default='train', type=str, help='support option: train/test')\n",
    "# parser.add_argument('--datapath', default='datapath', type=str, help='path KITII odometry dataset')\n",
    "# parser.add_argument('--bsize', default=32, type=int, help='minibatch size')\n",
    "# parser.add_argument('--trajectory_length', default=10, type=int, help='trajectory length')\n",
    "# parser.add_argument('--lr', type=float, default=0.0001, metavar='LR', help='learning rate (default: 0.0001)')\n",
    "# parser.add_argument('--momentum', type=float, default=0.5, metavar='M', help='SGD momentum (default: 0.5)')\n",
    "# parser.add_argument('--weight_decay', type=float, default=1e-4, metavar='M', help='SGD momentum (default: 0.5)')\n",
    "# parser.add_argument('--tau', default=0.001, type=float, help='moving average for target network')\n",
    "# parser.add_argument('--debug', dest='debug', action='store_true')\n",
    "# parser.add_argument('--train_iter', default=20000000, type=int, help='train iters each timestep')\n",
    "# parser.add_argument('--validation_steps', default=100, type=int, help='test iters each timestep')\n",
    "# parser.add_argument('--epsilon', default=50000, type=int, help='linear decay of exploration policy')\n",
    "# parser.add_argument('--checkpoint_path', default=None, type=str, help='Checkpoint path')\n",
    "# parser.add_argument('--checkpoint', default=None, type=str, help='Checkpoint')\n",
    "# args = parser.parse_args()"
   ]
  },
  {
   "cell_type": "code",
   "execution_count": 18,
   "metadata": {
    "colab": {},
    "colab_type": "code",
    "id": "UME2m5OJoL0l"
   },
   "outputs": [],
   "source": [
    "chkpnts = ['checkpoint_1_hospital.Hard.P040..carwelding.Hard.P001..soulcity.Hard.P002..abandonedfactory_night.Hard.P011..pth',\n",
    " 'checkpoint_1_gascola.Easy.P003..endofworld.Easy.P008..hospital.Easy.P017..carwelding.Easy.P006..pth',\n",
    " 'checkpoint_1_westerndesert.Easy.P010..westerndesert.Easy.P008..seasonsforest_winter.Easy.P005..seasonsforest_winter.Easy.P002..pth',\n",
    " 'checkpoint_1_hospital.Hard.P042..oldtown.Easy.P002..office2.Hard.P010..westerndesert.Easy.P011..seasonsforest.Hard.P001..gascola.Hard.P001..amusement.Hard.P000..office2.Hard.P001..pth',\n",
    " 'checkpoint_1_abandonedfactory.Hard.P009..gascola.Hard.P003..gascola.Hard.P008..abandonedfactory_night.Hard.P005..abandonedfactory_night.Easy.P009..westerndesert.Hard.P001..pth',\n",
    " 'checkpoint_1_abandonedfactory_night.Hard.P003..neighborhood.Hard.P012..hospital.Easy.P000..amusement.Hard.P007..seasidetown.Easy.P005..hospital.Easy.P032..seasonsforest_winter.Easy.P001..office.Hard.P004..pth',\n",
    " 'checkpoint_1_hospital.Easy.P023..neighborhood.Easy.P001..abandonedfactory_night.Hard.P006..endofworld.Easy.P000..office2.Hard.P009..hospital.Easy.P007..westerndesert.Easy.P007..abandonedfactory_night.Easy.P006..pth',\n",
    " 'checkpoint_1_gascola.Easy.P007..westerndesert.Easy.P005..seasonsforest_winter.Easy.P007..abandonedfactory_night.Hard.P010..hospital.Easy.P009..hospital.Easy.P012..ocean.Easy.P009..abandonedfactory.Easy.P000..pth',\n",
    " 'checkpoint_1_seasonsforest_winter.Easy.P008..office.Easy.P002..soulcity.Hard.P001..westerndesert.Hard.P006..pth']\n",
    "\n",
    "def generate_valid_graph(trajectory_length=10,validation_steps=10):\n",
    "    kwargs = {'num_workers': 1, 'pin_memory': True} if torch.cuda.is_available() else {} #check again\n",
    "    val_batch_size = 2#len(val_list)\n",
    "    val_datapath = [get_image_list(trajectory, left_right=\"left\") for trajectory in val_list[:2]]\n",
    "    test_loader = torch.utils.data.DataLoader(VisualOdometryDataLoader(val_datapath, \n",
    "                                                                    trajectory_length=trajectory_length, \n",
    "                                                                    transform=preprocess, \n",
    "                                                                    test=True), \n",
    "                                              batch_size=val_batch_size, \n",
    "                                              shuffle=False, **kwargs)\n",
    "    losses = []\n",
    "    if USE_CUDA:\n",
    "        model.cuda()\n",
    "    val_loss = test(model, val_list, trajectory_length=trajectory_length, validation_steps=validation_steps, preprocess=preprocess, test_loader=test_loader)\n",
    "    losses.append(val_loss)    \n",
    "    for chkpnt in os.listdir(\"checkpoints_v2/\"):\n",
    "        print(\"loading: \" + chkpnt)\n",
    "        checkpoint = torch.load(\"checkpoints_v2/\"+chkpnt, map_location=torch.device('cpu'))\n",
    "        model.load_state_dict(checkpoint['state_dict'])\n",
    "        if USE_CUDA:\n",
    "            model.cuda()\n",
    "        val_loss = test(model, val_list, trajectory_length=trajectory_length, validation_steps=validation_steps, preprocess=preprocess, test_loader=test_loader)\n",
    "        losses.append(val_loss)\n",
    "    plt.plot(range(len(losses)), losses)\n",
    "    plt.show()\n"
   ]
  },
  {
   "cell_type": "code",
   "execution_count": 19,
   "metadata": {
    "colab": {},
    "colab_type": "code",
    "id": "CjtDr9aNtG91"
   },
   "outputs": [],
   "source": [
    " class fake_arg_parser(argparse.ArgumentParser):\n",
    "    def __init__(self,checkpoint_path, datapath, \n",
    "                 mode='train', checkpoint=None,\n",
    "                 bsize=16, trajectory_length=8, \n",
    "                 lr=0.0003, momentum=0.5, \n",
    "                 weight_decay=1e-4, tau=0.001, \n",
    "                 train_iter=1, validation_steps=100,\n",
    "                 epsilon=50000):\n",
    "        self.mode = mode\n",
    "        self.datapath = datapath\n",
    "        self.bsize = bsize\n",
    "        self.checkpoint_path =checkpoint_path\n",
    "        self.checkpoint = checkpoint\n",
    "        self.lr = lr\n",
    "        self.momentum = momentum\n",
    "        self.weight_decay =weight_decay\n",
    "        self.tau =tau\n",
    "        self.train_iter = train_iter\n",
    "        self.validation_steps = validation_steps\n",
    "        self.epsilon = epsilon\n",
    "        self.trajectory_length = trajectory_length"
   ]
  },
  {
   "cell_type": "code",
   "execution_count": 20,
   "metadata": {
    "colab": {},
    "colab_type": "code",
    "id": "u3MflEY8yuxx"
   },
   "outputs": [],
   "source": [
    "# from google.colab import drive\n",
    "# drive.mount('/content/drive')"
   ]
  },
  {
   "cell_type": "code",
   "execution_count": 21,
   "metadata": {},
   "outputs": [],
   "source": [
    "train_list = ['office/Hard/P003/',\n",
    " 'seasonsforest/Hard/P006/',\n",
    " 'neighborhood/Hard/P009/',\n",
    " 'seasonsforest/Easy/P002/',\n",
    " 'hospital/Easy/P012/',\n",
    " 'westerndesert/Hard/P007/',\n",
    " 'carwelding/Easy/P006/',\n",
    " 'office2/Easy/P010/',\n",
    " 'abandonedfactory_night/Easy/P012/',\n",
    " 'ocean/Easy/P010/',\n",
    " 'westerndesert/Hard/P001/',\n",
    " 'hospital/Easy/P014/',\n",
    " 'hospital/Easy/P035/',\n",
    " 'hospital/Hard/P038/',\n",
    " 'office2/Easy/P007/',\n",
    " 'hospital/Hard/P049/',\n",
    " 'seasidetown/Hard/P001/',\n",
    " 'abandonedfactory_night/Hard/P009/',\n",
    " 'ocean/Hard/P003/',\n",
    " 'seasidetown/Hard/P000/',\n",
    " 'ocean/Easy/P006/',\n",
    " 'westerndesert/Hard/P006/',\n",
    " 'seasonsforest/Easy/P001/',\n",
    " 'abandonedfactory_night/Hard/P002/',\n",
    " 'seasonsforest/Hard/P002/',\n",
    " 'westerndesert/Easy/P001/',\n",
    " 'seasonsforest/Hard/P004/',\n",
    " 'hospital/Easy/P010/',\n",
    " 'seasonsforest_winter/Hard/P016/',\n",
    " 'westerndesert/Easy/P011/',\n",
    " 'hospital/Easy/P011/',\n",
    " 'seasonsforest_winter/Easy/P006/',\n",
    " 'abandonedfactory_night/Hard/P011/',\n",
    " 'seasidetown/Easy/P003/',\n",
    " 'hospital/Easy/P017/',\n",
    " 'seasidetown/Easy/P002/',\n",
    " 'hospital/Easy/P004/',\n",
    " 'abandonedfactory/Easy/P009/',\n",
    " 'westerndesert/Easy/P012/',\n",
    " 'hospital/Easy/P013/',\n",
    " 'hospital/Easy/P033/',\n",
    " 'hospital/Easy/P025/',\n",
    " 'hospital/Hard/P045/',\n",
    " 'abandonedfactory/Hard/P006/',\n",
    " 'gascola/Hard/P000/',\n",
    " 'office2/Hard/P001/',\n",
    " 'carwelding/Hard/P003/',\n",
    " 'office2/Hard/P006/',\n",
    " 'carwelding/Easy/P007/',\n",
    " 'westerndesert/Easy/P005/',\n",
    " 'soulcity/Hard/P009/',\n",
    " 'soulcity/Easy/P003/',\n",
    " 'hospital/Easy/P022/',\n",
    " 'japanesealley/Hard/P004/',\n",
    " 'hospital/Easy/P008/',\n",
    " 'neighborhood/Easy/P015/',\n",
    " 'seasidetown/Hard/P003/',\n",
    " 'hospital/Easy/P028/',\n",
    " 'abandonedfactory_night/Easy/P009/',\n",
    " 'ocean/Easy/P009/',\n",
    " 'hospital/Easy/P027/',\n",
    " 'gascola/Hard/P001/',\n",
    " 'hospital/Easy/P024/',\n",
    " 'office2/Easy/P000/',\n",
    " 'hospital/Easy/P019/',\n",
    " 'gascola/Easy/P001/',\n",
    " 'hospital/Easy/P002/',\n",
    " 'hospital/Easy/P023/',\n",
    " 'ocean/Hard/P005/',\n",
    " 'seasonsforest/Easy/P011/',\n",
    " 'westerndesert/Easy/P002/',\n",
    " 'japanesealley/Hard/P002/',\n",
    " 'abandonedfactory_night/Hard/P006/',\n",
    " 'carwelding/Easy/P004/',\n",
    " 'japanesealley/Hard/P000/',\n",
    " 'seasonsforest_winter/Easy/P008/',\n",
    " 'seasonsforest_winter/Hard/P015/',\n",
    " 'hospital/Hard/P037/',\n",
    " 'seasidetown/Easy/P001/',\n",
    " 'hospital/Easy/P009/',\n",
    " 'hospital/Easy/P036/',\n",
    " 'carwelding/Easy/P005/',\n",
    " 'westerndesert/Easy/P008/',\n",
    " 'hospital/Hard/P040/',\n",
    " 'ocean/Easy/P005/',\n",
    " 'seasonsforest/Easy/P008/',\n",
    " 'hospital/Easy/P031/',\n",
    " 'hospital/Easy/P026/',\n",
    " 'oldtown/Hard/P004/',\n",
    " 'carwelding/Hard/P000/',\n",
    " 'abandonedfactory_night/Easy/P002/',\n",
    " 'westerndesert/Easy/P007/',\n",
    " 'seasonsforest/Easy/P010/',\n",
    " 'seasonsforest/Easy/P007/',\n",
    " 'abandonedfactory_night/Hard/P014/',\n",
    " 'seasonsforest_winter/Easy/P009/',\n",
    " 'westerndesert/Hard/P004/',\n",
    " 'abandonedfactory_night/Hard/P001/',\n",
    " 'endofworld/Easy/P001/',\n",
    " 'hospital/Easy/P003/',\n",
    " 'hospital/Hard/P046/',\n",
    " 'office2/Hard/P007/',\n",
    " 'westerndesert/Easy/P010/',\n",
    " 'seasonsforest_winter/Hard/P014/',\n",
    " 'ocean/Easy/P001/',\n",
    " 'soulcity/Hard/P001/',\n",
    " 'endofworld/Hard/P005/',\n",
    " 'seasonsforest/Hard/P005/',\n",
    " 'hospital/Easy/P021/',\n",
    " 'hospital/Easy/P016/',\n",
    " 'ocean/Hard/P004/',\n",
    " 'hospital/Hard/P048/',\n",
    " 'hospital/Easy/P005/',\n",
    " 'office/Hard/P006/',\n",
    " 'neighborhood/Hard/P013/',\n",
    " 'soulcity/Easy/P007/',\n",
    " 'endofworld/Hard/P002/',\n",
    " 'oldtown/Hard/P006/',\n",
    " 'seasidetown/Easy/P004/',\n",
    " 'carwelding/Hard/P002/',\n",
    " 'japanesealley/Easy/P007/',\n",
    " 'westerndesert/Hard/P003/',\n",
    " 'amusement/Hard/P000/',\n",
    " 'ocean/Hard/P009/',\n",
    " 'ocean/Hard/P001/',\n",
    " 'neighborhood/Easy/P002/',\n",
    " 'ocean/Easy/P012/',\n",
    " 'abandonedfactory_night/Hard/P010/',\n",
    " 'ocean/Easy/P002/',\n",
    " 'seasonsforest_winter/Hard/P013/',\n",
    " 'amusement/Easy/P007/',\n",
    " 'hospital/Hard/P047/',\n",
    " 'neighborhood/Hard/P007/',\n",
    " 'amusement/Hard/P001/',\n",
    " 'westerndesert/Easy/P006/',\n",
    " 'office2/Easy/P005/',\n",
    " 'endofworld/Easy/P007/',\n",
    " 'endofworld/Easy/P009/',\n",
    " 'seasonsforest/Hard/P001/',\n",
    " 'amusement/Hard/P007/',\n",
    " 'hospital/Hard/P042/',\n",
    " 'soulcity/Easy/P002/',\n",
    " 'ocean/Easy/P011/',\n",
    " 'neighborhood/Hard/P014/',\n",
    " 'office2/Hard/P010/',\n",
    " 'abandonedfactory/Hard/P001/',\n",
    " 'soulcity/Hard/P002/',\n",
    " 'seasidetown/Easy/P000/',\n",
    " 'soulcity/Hard/P008/',\n",
    " 'hospital/Easy/P000/',\n",
    " 'ocean/Hard/P008/',\n",
    " 'oldtown/Hard/P005/',\n",
    " 'hospital/Easy/P034/',\n",
    " 'hospital/Easy/P015/',\n",
    " 'soulcity/Hard/P004/',\n",
    " 'hospital/Hard/P044/',\n",
    " 'neighborhood/Hard/P006/',\n",
    " 'japanesealley/Easy/P005/',\n",
    " 'hospital/Easy/P030/',\n",
    " 'neighborhood/Hard/P003/',\n",
    " 'hospital/Hard/P041/',\n",
    " 'westerndesert/Hard/P005/',\n",
    " 'endofworld/Easy/P008/',\n",
    " 'japanesealley/Hard/P005/',\n",
    " 'ocean/Easy/P013/',\n",
    " 'endofworld/Easy/P003/',\n",
    " 'abandonedfactory_night/Hard/P005/',\n",
    " 'abandonedfactory_night/Easy/P010/',\n",
    " 'westerndesert/Easy/P009/',\n",
    " 'office2/Easy/P003/',\n",
    " 'neighborhood/Hard/P015/',\n",
    " 'hospital/Easy/P006/',\n",
    " 'ocean/Hard/P002/',\n",
    " 'seasidetown/Easy/P005/',\n",
    " 'endofworld/Hard/P001/',\n",
    " 'abandonedfactory/Hard/P011/',\n",
    " 'abandonedfactory_night/Easy/P005/',\n",
    " 'seasonsforest/Easy/P004/',\n",
    " 'hospital/Easy/P029/',\n",
    " 'oldtown/Easy/P004/',\n",
    " 'amusement/Easy/P008/',\n",
    " 'soulcity/Hard/P000/',\n",
    " 'soulcity/Easy/P009/',\n",
    " 'office/Hard/P001/',\n",
    " 'japanesealley/Easy/P002/',\n",
    " 'japanesealley/Hard/P001/',\n",
    " 'gascola/Hard/P003/',\n",
    " 'ocean/Hard/P007/',\n",
    " 'office/Hard/P004/',\n",
    " 'seasonsforest_winter/Hard/P012/',\n",
    " 'amusement/Hard/P003/',\n",
    " 'office2/Hard/P002/',\n",
    " 'office2/Easy/P011/',\n",
    " 'gascola/Hard/P007/',\n",
    " 'seasonsforest/Easy/P009/',\n",
    " 'neighborhood/Easy/P005/',\n",
    " 'oldtown/Hard/P007/',\n",
    " 'soulcity/Easy/P012/',\n",
    " 'abandonedfactory/Easy/P006/',\n",
    " 'amusement/Easy/P001/',\n",
    " 'ocean/Hard/P006/',\n",
    " 'gascola/Hard/P009/',\n",
    " 'abandonedfactory/Hard/P003/',\n",
    " 'japanesealley/Easy/P004/',\n",
    " 'soulcity/Hard/P003/',\n",
    " 'endofworld/Easy/P002/',\n",
    " 'oldtown/Hard/P000/',\n",
    " 'amusement/Hard/P005/',\n",
    " 'amusement/Hard/P006/',\n",
    " 'abandonedfactory_night/Hard/P008/',\n",
    " 'oldtown/Easy/P005/',\n",
    " 'office2/Hard/P008/',\n",
    " 'carwelding/Hard/P001/',\n",
    " 'westerndesert/Hard/P002/',\n",
    " 'abandonedfactory_night/Easy/P001/',\n",
    " 'japanesealley/Easy/P003/',\n",
    " 'neighborhood/Easy/P017/',\n",
    " 'seasonsforest_winter/Easy/P001/',\n",
    " 'abandonedfactory_night/Hard/P003/',\n",
    " 'neighborhood/Easy/P007/',\n",
    " 'seasidetown/Easy/P008/',\n",
    " 'neighborhood/Hard/P017/',\n",
    " 'oldtown/Hard/P001/',\n",
    " 'office/Hard/P007/',\n",
    " 'abandonedfactory/Hard/P004/',\n",
    " 'seasidetown/Hard/P002/',\n",
    " 'office/Hard/P005/',\n",
    " 'neighborhood/Easy/P012/',\n",
    " 'office2/Easy/P006/',\n",
    " 'seasidetown/Easy/P009/',\n",
    " 'endofworld/Hard/P000/',\n",
    " 'abandonedfactory/Hard/P008/',\n",
    " 'westerndesert/Hard/P000/',\n",
    " 'abandonedfactory/Easy/P002/',\n",
    " 'oldtown/Hard/P002/',\n",
    " 'seasidetown/Hard/P004/',\n",
    " 'seasidetown/Easy/P007/',\n",
    " 'office/Easy/P005/',\n",
    " 'neighborhood/Easy/P018/',\n",
    " 'seasonsforest_winter/Easy/P004/',\n",
    " 'carwelding/Easy/P001/',\n",
    " 'seasonsforest_winter/Easy/P002/',\n",
    " 'endofworld/Easy/P004/',\n",
    " 'neighborhood/Hard/P011/',\n",
    " 'abandonedfactory_night/Easy/P006/',\n",
    " 'westerndesert/Easy/P013/',\n",
    " 'office/Hard/P002/',\n",
    " 'abandonedfactory/Hard/P007/',\n",
    " 'hospital/Easy/P007/',\n",
    " 'ocean/Hard/P000/',\n",
    " 'hospital/Easy/P032/',\n",
    " 'abandonedfactory/Hard/P005/',\n",
    " 'seasidetown/Easy/P006/',\n",
    " 'neighborhood/Hard/P016/',\n",
    " 'neighborhood/Easy/P010/',\n",
    " 'office2/Hard/P009/',\n",
    " 'abandonedfactory_night/Hard/P007/',\n",
    " 'amusement/Hard/P004/',\n",
    " 'seasonsforest_winter/Easy/P003/',\n",
    " 'japanesealley/Easy/P001/',\n",
    " 'soulcity/Easy/P005/',\n",
    " 'neighborhood/Hard/P002/',\n",
    " 'office/Easy/P006/',\n",
    " 'soulcity/Easy/P004/',\n",
    " 'westerndesert/Easy/P004/',\n",
    " 'abandonedfactory/Easy/P005/',\n",
    " 'abandonedfactory_night/Easy/P003/',\n",
    " 'endofworld/Easy/P006/',\n",
    " 'soulcity/Easy/P001/',\n",
    " 'neighborhood/Easy/P021/',\n",
    " 'neighborhood/Easy/P009/',\n",
    " 'neighborhood/Easy/P004/',\n",
    " 'abandonedfactory/Hard/P010/',\n",
    " 'ocean/Easy/P004/',\n",
    " 'hospital/Hard/P043/',\n",
    " 'abandonedfactory_night/Easy/P004/',\n",
    " 'soulcity/Easy/P011/',\n",
    " 'neighborhood/Hard/P008/',\n",
    " 'office2/Hard/P005/',\n",
    " 'seasonsforest_winter/Easy/P007/',\n",
    " 'abandonedfactory/Hard/P000/',\n",
    " 'oldtown/Hard/P008/',\n",
    " 'neighborhood/Hard/P012/',\n",
    " 'ocean/Easy/P008/',\n",
    " 'seasonsforest_winter/Hard/P017/',\n",
    " 'neighborhood/Hard/P004/',\n",
    " 'endofworld/Easy/P005/',\n",
    " 'abandonedfactory_night/Hard/P013/',\n",
    " 'carwelding/Easy/P002/',\n",
    " 'ocean/Easy/P000/',\n",
    " 'soulcity/Easy/P000/',\n",
    " 'soulcity/Easy/P008/',\n",
    " 'abandonedfactory/Easy/P004/',\n",
    " 'abandonedfactory_night/Hard/P000/',\n",
    " 'amusement/Easy/P002/',\n",
    " 'amusement/Easy/P004/',\n",
    " 'neighborhood/Easy/P016/',\n",
    " 'abandonedfactory_night/Hard/P012/',\n",
    " 'office/Easy/P001/',\n",
    " 'gascola/Hard/P005/',\n",
    " 'gascola/Hard/P002/',\n",
    " 'office/Easy/P000/',\n",
    " 'seasonsforest_winter/Hard/P011/',\n",
    " 'neighborhood/Easy/P020/',\n",
    " 'neighborhood/Easy/P008/',\n",
    " 'gascola/Hard/P008/',\n",
    " 'soulcity/Easy/P010/',\n",
    " 'office2/Easy/P008/',\n",
    " 'office2/Hard/P003/',\n",
    " 'gascola/Hard/P006/',\n",
    " 'gascola/Easy/P003/',\n",
    " 'endofworld/Easy/P000/',\n",
    " 'neighborhood/Hard/P010/',\n",
    " 'amusement/Easy/P006/',\n",
    " 'abandonedfactory_night/Easy/P007/',\n",
    " 'amusement/Easy/P003/',\n",
    " 'seasonsforest_winter/Hard/P010/',\n",
    " 'office/Easy/P004/',\n",
    " 'office2/Easy/P009/',\n",
    " 'office/Easy/P002/',\n",
    " 'oldtown/Easy/P001/',\n",
    " 'neighborhood/Easy/P014/',\n",
    " 'abandonedfactory/Easy/P008/',\n",
    " 'neighborhood/Easy/P019/',\n",
    " 'oldtown/Easy/P000/',\n",
    " 'office2/Easy/P004/',\n",
    " 'oldtown/Easy/P002/',\n",
    " 'seasonsforest_winter/Easy/P005/',\n",
    " 'office/Easy/P003/',\n",
    " 'abandonedfactory_night/Easy/P008/',\n",
    " 'gascola/Hard/P004/',\n",
    " 'oldtown/Easy/P007/',\n",
    " 'abandonedfactory_night/Easy/P011/',\n",
    " 'soulcity/Easy/P006/',\n",
    " 'neighborhood/Hard/P001/',\n",
    " 'neighborhood/Easy/P003/',\n",
    " 'abandonedfactory/Hard/P009/',\n",
    " 'abandonedfactory/Easy/P000/',\n",
    " 'neighborhood/Hard/P000/',\n",
    " 'seasonsforest_winter/Easy/P000/',\n",
    " 'gascola/Easy/P007/',\n",
    " 'neighborhood/Easy/P013/',\n",
    " 'gascola/Easy/P006/',\n",
    " 'abandonedfactory_night/Easy/P013/',\n",
    " 'neighborhood/Easy/P001/',\n",
    " 'gascola/Easy/P004/',\n",
    " 'abandonedfactory/Easy/P011/',\n",
    " 'abandonedfactory/Easy/P010/',\n",
    " 'neighborhood/Easy/P000/']"
   ]
  },
  {
   "cell_type": "code",
   "execution_count": 22,
   "metadata": {
    "colab": {},
    "colab_type": "code",
    "id": "VGt-JZgutG-E"
   },
   "outputs": [],
   "source": [
    "args = fake_arg_parser(\"checkpoints_v2\", train_list)#, checkpoint=\"checkpoints_v2/checkpoint_1_seasonsforest.Easy.P008..amusement.Easy.P006..pth\"  )"
   ]
  },
  {
   "cell_type": "code",
   "execution_count": 23,
   "metadata": {
    "colab": {},
    "colab_type": "code",
    "id": "lbWI9k8BtG-c"
   },
   "outputs": [
    {
     "ename": "NameError",
     "evalue": "name 'USE_TPU' is not defined",
     "output_type": "error",
     "traceback": [
      "\u001b[0;31m---------------------------------------------------------------------------\u001b[0m",
      "\u001b[0;31mNameError\u001b[0m                                 Traceback (most recent call last)",
      "\u001b[0;32m<ipython-input-23-9f31d91d90e9>\u001b[0m in \u001b[0;36m<module>\u001b[0;34m\u001b[0m\n\u001b[1;32m      3\u001b[0m     \u001b[0;32mimport\u001b[0m \u001b[0mtorch_xla\u001b[0m\u001b[0;34m.\u001b[0m\u001b[0mcore\u001b[0m\u001b[0;34m.\u001b[0m\u001b[0mxla_model\u001b[0m \u001b[0;32mas\u001b[0m \u001b[0mxm\u001b[0m\u001b[0;34m\u001b[0m\u001b[0;34m\u001b[0m\u001b[0m\n\u001b[1;32m      4\u001b[0m     \u001b[0mdevice_tpu\u001b[0m \u001b[0;34m=\u001b[0m \u001b[0mxm\u001b[0m\u001b[0;34m.\u001b[0m\u001b[0mxla_device\u001b[0m\u001b[0;34m(\u001b[0m\u001b[0;34m)\u001b[0m\u001b[0;34m\u001b[0m\u001b[0;34m\u001b[0m\u001b[0m\n\u001b[0;32m----> 5\u001b[0;31m \u001b[0mmodel\u001b[0m \u001b[0;34m=\u001b[0m \u001b[0mDeepVONet\u001b[0m\u001b[0;34m(\u001b[0m\u001b[0;34m)\u001b[0m\u001b[0;34m\u001b[0m\u001b[0;34m\u001b[0m\u001b[0m\n\u001b[0m",
      "\u001b[0;32m~/Desktop/Anything nikhil/CMU/TartanAir/tartanVO_challenge_solution/model.py\u001b[0m in \u001b[0;36m__init__\u001b[0;34m(self)\u001b[0m\n\u001b[1;32m     90\u001b[0m         \u001b[0mself\u001b[0m\u001b[0;34m.\u001b[0m\u001b[0mfc\u001b[0m \u001b[0;34m=\u001b[0m \u001b[0mnn\u001b[0m\u001b[0;34m.\u001b[0m\u001b[0mLinear\u001b[0m\u001b[0;34m(\u001b[0m\u001b[0min_features\u001b[0m\u001b[0;34m=\u001b[0m\u001b[0;36m100\u001b[0m\u001b[0;34m,\u001b[0m \u001b[0mout_features\u001b[0m\u001b[0;34m=\u001b[0m\u001b[0;36m7\u001b[0m\u001b[0;34m)\u001b[0m \u001b[0;31m#changed out to 7\u001b[0m\u001b[0;34m\u001b[0m\u001b[0;34m\u001b[0m\u001b[0m\n\u001b[1;32m     91\u001b[0m         \u001b[0mself\u001b[0m\u001b[0;34m.\u001b[0m\u001b[0mfinal_wh\u001b[0m \u001b[0;34m=\u001b[0m \u001b[0;34m(\u001b[0m\u001b[0mw\u001b[0m\u001b[0;34m,\u001b[0m\u001b[0mh\u001b[0m\u001b[0;34m)\u001b[0m\u001b[0;34m\u001b[0m\u001b[0;34m\u001b[0m\u001b[0m\n\u001b[0;32m---> 92\u001b[0;31m         \u001b[0mself\u001b[0m\u001b[0;34m.\u001b[0m\u001b[0mreset_hidden_states\u001b[0m\u001b[0;34m(\u001b[0m\u001b[0;34m)\u001b[0m\u001b[0;34m\u001b[0m\u001b[0;34m\u001b[0m\u001b[0m\n\u001b[0m\u001b[1;32m     93\u001b[0m \u001b[0;34m\u001b[0m\u001b[0m\n\u001b[1;32m     94\u001b[0m     \u001b[0;32mdef\u001b[0m \u001b[0mreset_hidden_states\u001b[0m\u001b[0;34m(\u001b[0m\u001b[0mself\u001b[0m\u001b[0;34m,\u001b[0m \u001b[0msize\u001b[0m\u001b[0;34m=\u001b[0m\u001b[0;36m1\u001b[0m\u001b[0;34m,\u001b[0m \u001b[0mzero\u001b[0m\u001b[0;34m=\u001b[0m\u001b[0;32mTrue\u001b[0m\u001b[0;34m)\u001b[0m\u001b[0;34m:\u001b[0m\u001b[0;34m\u001b[0m\u001b[0;34m\u001b[0m\u001b[0m\n",
      "\u001b[0;32m~/Desktop/Anything nikhil/CMU/TartanAir/tartanVO_challenge_solution/model.py\u001b[0m in \u001b[0;36mreset_hidden_states\u001b[0;34m(self, size, zero)\u001b[0m\n\u001b[1;32m    109\u001b[0m             \u001b[0mself\u001b[0m\u001b[0;34m.\u001b[0m\u001b[0mhx2\u001b[0m \u001b[0;34m=\u001b[0m \u001b[0mself\u001b[0m\u001b[0;34m.\u001b[0m\u001b[0mhx2\u001b[0m\u001b[0;34m.\u001b[0m\u001b[0mcuda\u001b[0m\u001b[0;34m(\u001b[0m\u001b[0;34m)\u001b[0m\u001b[0;34m\u001b[0m\u001b[0;34m\u001b[0m\u001b[0m\n\u001b[1;32m    110\u001b[0m             \u001b[0mself\u001b[0m\u001b[0;34m.\u001b[0m\u001b[0mcx2\u001b[0m \u001b[0;34m=\u001b[0m \u001b[0mself\u001b[0m\u001b[0;34m.\u001b[0m\u001b[0mcx2\u001b[0m\u001b[0;34m.\u001b[0m\u001b[0mcuda\u001b[0m\u001b[0;34m(\u001b[0m\u001b[0;34m)\u001b[0m\u001b[0;34m\u001b[0m\u001b[0;34m\u001b[0m\u001b[0m\n\u001b[0;32m--> 111\u001b[0;31m         \u001b[0;32mif\u001b[0m \u001b[0mUSE_TPU\u001b[0m \u001b[0;34m==\u001b[0m \u001b[0;32mTrue\u001b[0m\u001b[0;34m:\u001b[0m\u001b[0;34m\u001b[0m\u001b[0;34m\u001b[0m\u001b[0m\n\u001b[0m\u001b[1;32m    112\u001b[0m             \u001b[0mself\u001b[0m\u001b[0;34m.\u001b[0m\u001b[0mhx1\u001b[0m \u001b[0;34m=\u001b[0m \u001b[0mself\u001b[0m\u001b[0;34m.\u001b[0m\u001b[0mhx1\u001b[0m\u001b[0;34m.\u001b[0m\u001b[0mto\u001b[0m\u001b[0;34m(\u001b[0m\u001b[0mdevice_tpu\u001b[0m\u001b[0;34m)\u001b[0m\u001b[0;34m\u001b[0m\u001b[0;34m\u001b[0m\u001b[0m\n\u001b[1;32m    113\u001b[0m             \u001b[0mself\u001b[0m\u001b[0;34m.\u001b[0m\u001b[0mcx1\u001b[0m \u001b[0;34m=\u001b[0m \u001b[0mself\u001b[0m\u001b[0;34m.\u001b[0m\u001b[0mcx1\u001b[0m\u001b[0;34m.\u001b[0m\u001b[0mto\u001b[0m\u001b[0;34m(\u001b[0m\u001b[0mdevice_tpu\u001b[0m\u001b[0;34m)\u001b[0m\u001b[0;34m\u001b[0m\u001b[0;34m\u001b[0m\u001b[0m\n",
      "\u001b[0;31mNameError\u001b[0m: name 'USE_TPU' is not defined"
     ]
    }
   ],
   "source": [
    "if USE_TPU:\n",
    "    import torch_xla\n",
    "    import torch_xla.core.xla_model as xm\n",
    "    device_tpu = xm.xla_device()\n",
    "model = DeepVONet()"
   ]
  },
  {
   "cell_type": "code",
   "execution_count": null,
   "metadata": {
    "colab": {},
    "colab_type": "code",
    "id": "y6scw-4MwFce"
   },
   "outputs": [],
   "source": [
    "# kwargs = {'num_workers': 1, 'pin_memory': True} if torch.cuda.is_available() else {} #check again\n",
    "# val_batch_size = 2#len(val_list)\n",
    "# val_datapath = [get_image_list(trajectory, left_right=\"left\") for trajectory in val_list[:2]]\n",
    "\n",
    "# test_loader = torch.utils.data.DataLoader(VisualOdometryDataLoader(val_datapath, \n",
    "#                                                                 trajectory_length=10, \n",
    "#                                                                 transform=preprocess, \n",
    "#                                                                 test=True), \n",
    "#                                           batch_size=val_batch_size, \n",
    "#                                           shuffle=False, **kwargs)\n",
    "# for batch_idx, (images_stacked, odometries_stacked) in tqdm(enumerate(test_loader)):\n",
    "#     images_stacked = images_stacked.permute(1, 0, 2, 3, 4)\n",
    "\n",
    "#     for t in range(10):\n",
    "#         f, axarr = plt.subplots(1,2, figsize=(25,25))\n",
    "#         axarr[0].imshow(unnormalize(images_stacked[t][0][:3]).data.cpu().numpy().transpose((1, 2, 0)))\n",
    "#         axarr[1].imshow(unnormalize(images_stacked[t][0][3:]).data.cpu().numpy().transpose((1, 2, 0)))\n",
    "#         plt.show()\n",
    "    "
   ]
  },
  {
   "cell_type": "code",
   "execution_count": null,
   "metadata": {
    "colab": {},
    "colab_type": "code",
    "id": "SeJRuIY1S8bN"
   },
   "outputs": [],
   "source": [
    "# generate_valid_graph()"
   ]
  },
  {
   "cell_type": "code",
   "execution_count": 13,
   "metadata": {
    "colab": {},
    "colab_type": "code",
    "id": "I7NP_wNGtG-v"
   },
   "outputs": [
    {
     "name": "stdout",
     "output_type": "stream",
     "text": [
      "loading\n"
     ]
    },
    {
     "ename": "FileNotFoundError",
     "evalue": "[Errno 2] No such file or directory: 'checkpoints_v2/checkpoint_1_seasonsforest.Easy.P008..amusement.Easy.P006..pth'",
     "output_type": "error",
     "traceback": [
      "\u001b[0;31m---------------------------------------------------------------------------\u001b[0m",
      "\u001b[0;31mFileNotFoundError\u001b[0m                         Traceback (most recent call last)",
      "\u001b[0;32m<ipython-input-13-c3569043a449>\u001b[0m in \u001b[0;36m<module>\u001b[0;34m\u001b[0m\n\u001b[1;32m      1\u001b[0m \u001b[0;32mif\u001b[0m \u001b[0margs\u001b[0m\u001b[0;34m.\u001b[0m\u001b[0mcheckpoint\u001b[0m \u001b[0;32mis\u001b[0m \u001b[0;32mnot\u001b[0m \u001b[0;32mNone\u001b[0m\u001b[0;34m:\u001b[0m\u001b[0;34m\u001b[0m\u001b[0;34m\u001b[0m\u001b[0m\n\u001b[1;32m      2\u001b[0m     \u001b[0mprint\u001b[0m\u001b[0;34m(\u001b[0m\u001b[0;34m\"loading\"\u001b[0m\u001b[0;34m)\u001b[0m\u001b[0;34m\u001b[0m\u001b[0;34m\u001b[0m\u001b[0m\n\u001b[0;32m----> 3\u001b[0;31m     \u001b[0mcheckpoint\u001b[0m \u001b[0;34m=\u001b[0m \u001b[0mtorch\u001b[0m\u001b[0;34m.\u001b[0m\u001b[0mload\u001b[0m\u001b[0;34m(\u001b[0m\u001b[0margs\u001b[0m\u001b[0;34m.\u001b[0m\u001b[0mcheckpoint\u001b[0m\u001b[0;34m,\u001b[0m \u001b[0mmap_location\u001b[0m\u001b[0;34m=\u001b[0m\u001b[0mtorch\u001b[0m\u001b[0;34m.\u001b[0m\u001b[0mdevice\u001b[0m\u001b[0;34m(\u001b[0m\u001b[0;34m'cpu'\u001b[0m\u001b[0;34m)\u001b[0m\u001b[0;34m)\u001b[0m\u001b[0;34m\u001b[0m\u001b[0;34m\u001b[0m\u001b[0m\n\u001b[0m\u001b[1;32m      4\u001b[0m     \u001b[0mmodel\u001b[0m\u001b[0;34m.\u001b[0m\u001b[0mload_state_dict\u001b[0m\u001b[0;34m(\u001b[0m\u001b[0mcheckpoint\u001b[0m\u001b[0;34m[\u001b[0m\u001b[0;34m'state_dict'\u001b[0m\u001b[0;34m]\u001b[0m\u001b[0;34m)\u001b[0m\u001b[0;34m\u001b[0m\u001b[0;34m\u001b[0m\u001b[0m\n\u001b[1;32m      5\u001b[0m \u001b[0;32mif\u001b[0m \u001b[0mUSE_CUDA\u001b[0m\u001b[0;34m:\u001b[0m\u001b[0;34m\u001b[0m\u001b[0;34m\u001b[0m\u001b[0m\n",
      "\u001b[0;32m~/anaconda2/envs/python3env/lib/python3.8/site-packages/torch/serialization.py\u001b[0m in \u001b[0;36mload\u001b[0;34m(f, map_location, pickle_module, **pickle_load_args)\u001b[0m\n\u001b[1;32m    582\u001b[0m         \u001b[0mpickle_load_args\u001b[0m\u001b[0;34m[\u001b[0m\u001b[0;34m'encoding'\u001b[0m\u001b[0;34m]\u001b[0m \u001b[0;34m=\u001b[0m \u001b[0;34m'utf-8'\u001b[0m\u001b[0;34m\u001b[0m\u001b[0;34m\u001b[0m\u001b[0m\n\u001b[1;32m    583\u001b[0m \u001b[0;34m\u001b[0m\u001b[0m\n\u001b[0;32m--> 584\u001b[0;31m     \u001b[0;32mwith\u001b[0m \u001b[0m_open_file_like\u001b[0m\u001b[0;34m(\u001b[0m\u001b[0mf\u001b[0m\u001b[0;34m,\u001b[0m \u001b[0;34m'rb'\u001b[0m\u001b[0;34m)\u001b[0m \u001b[0;32mas\u001b[0m \u001b[0mopened_file\u001b[0m\u001b[0;34m:\u001b[0m\u001b[0;34m\u001b[0m\u001b[0;34m\u001b[0m\u001b[0m\n\u001b[0m\u001b[1;32m    585\u001b[0m         \u001b[0;32mif\u001b[0m \u001b[0m_is_zipfile\u001b[0m\u001b[0;34m(\u001b[0m\u001b[0mopened_file\u001b[0m\u001b[0;34m)\u001b[0m\u001b[0;34m:\u001b[0m\u001b[0;34m\u001b[0m\u001b[0;34m\u001b[0m\u001b[0m\n\u001b[1;32m    586\u001b[0m             \u001b[0;32mwith\u001b[0m \u001b[0m_open_zipfile_reader\u001b[0m\u001b[0;34m(\u001b[0m\u001b[0mf\u001b[0m\u001b[0;34m)\u001b[0m \u001b[0;32mas\u001b[0m \u001b[0mopened_zipfile\u001b[0m\u001b[0;34m:\u001b[0m\u001b[0;34m\u001b[0m\u001b[0;34m\u001b[0m\u001b[0m\n",
      "\u001b[0;32m~/anaconda2/envs/python3env/lib/python3.8/site-packages/torch/serialization.py\u001b[0m in \u001b[0;36m_open_file_like\u001b[0;34m(name_or_buffer, mode)\u001b[0m\n\u001b[1;32m    232\u001b[0m \u001b[0;32mdef\u001b[0m \u001b[0m_open_file_like\u001b[0m\u001b[0;34m(\u001b[0m\u001b[0mname_or_buffer\u001b[0m\u001b[0;34m,\u001b[0m \u001b[0mmode\u001b[0m\u001b[0;34m)\u001b[0m\u001b[0;34m:\u001b[0m\u001b[0;34m\u001b[0m\u001b[0;34m\u001b[0m\u001b[0m\n\u001b[1;32m    233\u001b[0m     \u001b[0;32mif\u001b[0m \u001b[0m_is_path\u001b[0m\u001b[0;34m(\u001b[0m\u001b[0mname_or_buffer\u001b[0m\u001b[0;34m)\u001b[0m\u001b[0;34m:\u001b[0m\u001b[0;34m\u001b[0m\u001b[0;34m\u001b[0m\u001b[0m\n\u001b[0;32m--> 234\u001b[0;31m         \u001b[0;32mreturn\u001b[0m \u001b[0m_open_file\u001b[0m\u001b[0;34m(\u001b[0m\u001b[0mname_or_buffer\u001b[0m\u001b[0;34m,\u001b[0m \u001b[0mmode\u001b[0m\u001b[0;34m)\u001b[0m\u001b[0;34m\u001b[0m\u001b[0;34m\u001b[0m\u001b[0m\n\u001b[0m\u001b[1;32m    235\u001b[0m     \u001b[0;32melse\u001b[0m\u001b[0;34m:\u001b[0m\u001b[0;34m\u001b[0m\u001b[0;34m\u001b[0m\u001b[0m\n\u001b[1;32m    236\u001b[0m         \u001b[0;32mif\u001b[0m \u001b[0;34m'w'\u001b[0m \u001b[0;32min\u001b[0m \u001b[0mmode\u001b[0m\u001b[0;34m:\u001b[0m\u001b[0;34m\u001b[0m\u001b[0;34m\u001b[0m\u001b[0m\n",
      "\u001b[0;32m~/anaconda2/envs/python3env/lib/python3.8/site-packages/torch/serialization.py\u001b[0m in \u001b[0;36m__init__\u001b[0;34m(self, name, mode)\u001b[0m\n\u001b[1;32m    213\u001b[0m \u001b[0;32mclass\u001b[0m \u001b[0m_open_file\u001b[0m\u001b[0;34m(\u001b[0m\u001b[0m_opener\u001b[0m\u001b[0;34m)\u001b[0m\u001b[0;34m:\u001b[0m\u001b[0;34m\u001b[0m\u001b[0;34m\u001b[0m\u001b[0m\n\u001b[1;32m    214\u001b[0m     \u001b[0;32mdef\u001b[0m \u001b[0m__init__\u001b[0m\u001b[0;34m(\u001b[0m\u001b[0mself\u001b[0m\u001b[0;34m,\u001b[0m \u001b[0mname\u001b[0m\u001b[0;34m,\u001b[0m \u001b[0mmode\u001b[0m\u001b[0;34m)\u001b[0m\u001b[0;34m:\u001b[0m\u001b[0;34m\u001b[0m\u001b[0;34m\u001b[0m\u001b[0m\n\u001b[0;32m--> 215\u001b[0;31m         \u001b[0msuper\u001b[0m\u001b[0;34m(\u001b[0m\u001b[0m_open_file\u001b[0m\u001b[0;34m,\u001b[0m \u001b[0mself\u001b[0m\u001b[0;34m)\u001b[0m\u001b[0;34m.\u001b[0m\u001b[0m__init__\u001b[0m\u001b[0;34m(\u001b[0m\u001b[0mopen\u001b[0m\u001b[0;34m(\u001b[0m\u001b[0mname\u001b[0m\u001b[0;34m,\u001b[0m \u001b[0mmode\u001b[0m\u001b[0;34m)\u001b[0m\u001b[0;34m)\u001b[0m\u001b[0;34m\u001b[0m\u001b[0;34m\u001b[0m\u001b[0m\n\u001b[0m\u001b[1;32m    216\u001b[0m \u001b[0;34m\u001b[0m\u001b[0m\n\u001b[1;32m    217\u001b[0m     \u001b[0;32mdef\u001b[0m \u001b[0m__exit__\u001b[0m\u001b[0;34m(\u001b[0m\u001b[0mself\u001b[0m\u001b[0;34m,\u001b[0m \u001b[0;34m*\u001b[0m\u001b[0margs\u001b[0m\u001b[0;34m)\u001b[0m\u001b[0;34m:\u001b[0m\u001b[0;34m\u001b[0m\u001b[0;34m\u001b[0m\u001b[0m\n",
      "\u001b[0;31mFileNotFoundError\u001b[0m: [Errno 2] No such file or directory: 'checkpoints_v2/checkpoint_1_seasonsforest.Easy.P008..amusement.Easy.P006..pth'"
     ]
    }
   ],
   "source": [
    "if args.checkpoint is not None:\n",
    "    print(\"loading\")\n",
    "    checkpoint = torch.load(args.checkpoint, map_location=torch.device('cpu'))\n",
    "    model.load_state_dict(checkpoint['state_dict'])\n",
    "if USE_CUDA:\n",
    "    model.cuda()\n",
    "if USE_TPU:\n",
    "    model = model.to(device_tpu)\n"
   ]
  },
  {
   "cell_type": "code",
   "execution_count": 41,
   "metadata": {
    "colab": {},
    "colab_type": "code",
    "id": "l6Ijhg3YtG-1"
   },
   "outputs": [],
   "source": [
    "# args = parser.parse_args()"
   ]
  },
  {
   "cell_type": "code",
   "execution_count": 42,
   "metadata": {
    "colab": {},
    "colab_type": "code",
    "id": "LgiiJ0v58xmv"
   },
   "outputs": [],
   "source": [
    "# from google.colab import drive\n",
    "# drive.mount('/content/drive')"
   ]
  },
  {
   "cell_type": "code",
   "execution_count": 43,
   "metadata": {
    "colab": {},
    "colab_type": "code",
    "id": "5CObcnnu5t93"
   },
   "outputs": [],
   "source": [
    "\n",
    "# train_loader = torch.utils.data.DataLoader(VisualOdometryDataLoader(['hospital/Easy/P011/', 'office2/Hard/P005/', 'abandonedfactory_night/Hard/P014/', 'seasonsforest_winter/Easy/P009/'],\n",
    "#                                                                     trajectory_length=4, transform=preprocess), batch_size=args.bsize, shuffle=False, drop_last=True)\n"
   ]
  },
  {
   "cell_type": "code",
   "execution_count": 44,
   "metadata": {
    "colab": {},
    "colab_type": "code",
    "id": "Jhf9LvK6Hx1r"
   },
   "outputs": [],
   "source": [
    "# test(model, val_list, 10, 10, preprocess)"
   ]
  },
  {
   "cell_type": "code",
   "execution_count": 45,
   "metadata": {},
   "outputs": [],
   "source": [
    "# ans = predict_trajectory(model, [val_list[0]], 10, 340, preprocess)"
   ]
  },
  {
   "cell_type": "code",
   "execution_count": 46,
   "metadata": {},
   "outputs": [],
   "source": [
    "# fe = open(\"pose_estimations/est.txt\", \"w\")\n",
    "# fr = open(\"pose_estimations/real.txt\", \"w\")\n",
    "# for est, real in zip(ans[0], ans[1]):\n",
    "#     fe.write(\" \".join([\"{:e}\".format(x) for x in est[0]]))\n",
    "#     fe.write(\"\\n\")\n",
    "#     fr.write(\" \".join([\"{:e}\".format(x) for x in real]))\n",
    "#     fr.write(\"\\n\")\n",
    "        \n",
    "# fe.close()\n",
    "# fr.close()"
   ]
  },
  {
   "cell_type": "code",
   "execution_count": null,
   "metadata": {
    "colab": {},
    "colab_type": "code",
    "id": "Emfi4_OetG_M"
   },
   "outputs": [
    {
     "name": "stdout",
     "output_type": "stream",
     "text": [
      "[345, 439, 346, 1432, 929, 434, 399, 520, 308, 1447] 6599 2980\n",
      "current trajectory is:  ['office/Hard/P003/', 'seasonsforest/Hard/P006/', 'neighborhood/Hard/P009/', 'seasonsforest/Easy/P002/', 'hospital/Easy/P012/', 'westerndesert/Hard/P007/', 'carwelding/Easy/P006/', 'office2/Easy/P010/', 'abandonedfactory_night/Easy/P012/', 'ocean/Easy/P010/', 'westerndesert/Hard/P001/', 'hospital/Easy/P014/', 'hospital/Easy/P035/', 'hospital/Hard/P038/', 'office2/Easy/P007/', 'hospital/Hard/P049/']\n",
      "[300, 300, 301, 301, 302, 303, 304, 304, 305, 306, 307, 307, 307, 308, 310, 311] 4876 4672\n"
     ]
    },
    {
     "name": "stderr",
     "output_type": "stream",
     "text": [
      "50it [13:57, 15.00s/it]\n",
      "0it [00:00, ?it/s]\u001b[A"
     ]
    },
    {
     "name": "stdout",
     "output_type": "stream",
     "text": [
      "trying again\n",
      "trying again\n"
     ]
    },
    {
     "name": "stderr",
     "output_type": "stream",
     "text": [
      "\r",
      "0it [01:39, ?it/s]"
     ]
    },
    {
     "name": "stdout",
     "output_type": "stream",
     "text": [
      "breaks at batch_idx:  0\n"
     ]
    },
    {
     "name": "stderr",
     "output_type": "stream",
     "text": [
      "\n",
      "100it [27:26, 14.52s/it]\n",
      "0it [01:39, ?it/s]\u001b[A"
     ]
    },
    {
     "name": "stdout",
     "output_type": "stream",
     "text": [
      "breaks at batch_idx:  0\n"
     ]
    },
    {
     "name": "stderr",
     "output_type": "stream",
     "text": [
      "\n"
     ]
    },
    {
     "name": "stdout",
     "output_type": "stream",
     "text": [
      "Observe if the numbers match:  100 100 100\n"
     ]
    },
    {
     "name": "stderr",
     "output_type": "stream",
     "text": [
      "150it [40:49, 14.41s/it]\n",
      "0it [01:52, ?it/s]\u001b[A"
     ]
    },
    {
     "name": "stdout",
     "output_type": "stream",
     "text": [
      "breaks at batch_idx:  0\n"
     ]
    },
    {
     "name": "stderr",
     "output_type": "stream",
     "text": [
      "\n"
     ]
    },
    {
     "name": "stdout",
     "output_type": "stream",
     "text": [
      "Observe if the numbers match:  150 150 150\n"
     ]
    },
    {
     "name": "stderr",
     "output_type": "stream",
     "text": [
      "200it [54:30, 14.40s/it]\n",
      "0it [01:37, ?it/s]\u001b[A"
     ]
    },
    {
     "name": "stdout",
     "output_type": "stream",
     "text": [
      "breaks at batch_idx:  0\n"
     ]
    },
    {
     "name": "stderr",
     "output_type": "stream",
     "text": [
      "\n"
     ]
    },
    {
     "name": "stdout",
     "output_type": "stream",
     "text": [
      "Observe if the numbers match:  200 200 200\n"
     ]
    },
    {
     "name": "stderr",
     "output_type": "stream",
     "text": [
      "0it [01:38, ?it/s].40s/it]"
     ]
    },
    {
     "name": "stdout",
     "output_type": "stream",
     "text": [
      "breaks at batch_idx:  0\n"
     ]
    },
    {
     "name": "stderr",
     "output_type": "stream",
     "text": [
      "\n"
     ]
    },
    {
     "name": "stdout",
     "output_type": "stream",
     "text": [
      "Observe if the numbers match:  250 250 250\n"
     ]
    },
    {
     "name": "stderr",
     "output_type": "stream",
     "text": [
      "292it [1:19:45, 16.39s/it]\n",
      "0it [01:36, ?it/s]"
     ]
    },
    {
     "name": "stdout",
     "output_type": "stream",
     "text": [
      "breaks at batch_idx:  0\n"
     ]
    },
    {
     "name": "stderr",
     "output_type": "stream",
     "text": [
      "\n"
     ]
    },
    {
     "name": "stdout",
     "output_type": "stream",
     "text": [
      "current trajectory is:  ['seasidetown/Hard/P001/', 'abandonedfactory_night/Hard/P009/', 'ocean/Hard/P003/', 'seasidetown/Hard/P000/', 'ocean/Easy/P006/', 'westerndesert/Hard/P006/', 'seasonsforest/Easy/P001/', 'abandonedfactory_night/Hard/P002/', 'seasonsforest/Hard/P002/', 'westerndesert/Easy/P001/', 'seasonsforest/Hard/P004/', 'hospital/Easy/P010/', 'seasonsforest_winter/Hard/P016/', 'westerndesert/Easy/P011/', 'hospital/Easy/P011/', 'seasonsforest_winter/Easy/P006/']\n",
      "[312, 313, 314, 314, 318, 319, 319, 320, 320, 322, 324, 324, 324, 327, 329, 330] 5129 4864\n"
     ]
    },
    {
     "name": "stderr",
     "output_type": "stream",
     "text": [
      "50it [13:43, 14.22s/it]\n",
      "0it [00:00, ?it/s]\u001b[A"
     ]
    },
    {
     "name": "stdout",
     "output_type": "stream",
     "text": [
      "trying again\n",
      "trying again\n"
     ]
    },
    {
     "name": "stderr",
     "output_type": "stream",
     "text": [
      "\r",
      "0it [01:48, ?it/s]"
     ]
    },
    {
     "name": "stdout",
     "output_type": "stream",
     "text": [
      "breaks at batch_idx:  0\n"
     ]
    },
    {
     "name": "stderr",
     "output_type": "stream",
     "text": [
      "\n",
      "100it [27:19, 14.49s/it]\n",
      "0it [01:35, ?it/s]\u001b[A"
     ]
    },
    {
     "name": "stdout",
     "output_type": "stream",
     "text": [
      "breaks at batch_idx:  0\n"
     ]
    },
    {
     "name": "stderr",
     "output_type": "stream",
     "text": [
      "\n"
     ]
    },
    {
     "name": "stdout",
     "output_type": "stream",
     "text": [
      "Observe if the numbers match:  100 100 100\n"
     ]
    },
    {
     "name": "stderr",
     "output_type": "stream",
     "text": [
      "150it [40:58, 15.28s/it]\n",
      "0it [01:37, ?it/s]\u001b[A"
     ]
    },
    {
     "name": "stdout",
     "output_type": "stream",
     "text": [
      "breaks at batch_idx:  0\n"
     ]
    },
    {
     "name": "stderr",
     "output_type": "stream",
     "text": [
      "\n"
     ]
    },
    {
     "name": "stdout",
     "output_type": "stream",
     "text": [
      "Observe if the numbers match:  150 150 150\n"
     ]
    },
    {
     "name": "stderr",
     "output_type": "stream",
     "text": [
      "200it [54:32, 14.71s/it]\n",
      "0it [01:36, ?it/s]\u001b[A"
     ]
    },
    {
     "name": "stdout",
     "output_type": "stream",
     "text": [
      "breaks at batch_idx:  0\n"
     ]
    },
    {
     "name": "stderr",
     "output_type": "stream",
     "text": [
      "\n"
     ]
    },
    {
     "name": "stdout",
     "output_type": "stream",
     "text": [
      "Observe if the numbers match:  200 200 200\n"
     ]
    },
    {
     "name": "stderr",
     "output_type": "stream",
     "text": [
      "250it [1:07:56, 14.62s/it]\n",
      "0it [01:34, ?it/s]\u001b[A"
     ]
    },
    {
     "name": "stdout",
     "output_type": "stream",
     "text": [
      "breaks at batch_idx:  0\n"
     ]
    },
    {
     "name": "stderr",
     "output_type": "stream",
     "text": [
      "\n"
     ]
    },
    {
     "name": "stdout",
     "output_type": "stream",
     "text": [
      "Observe if the numbers match:  250 250 250\n"
     ]
    },
    {
     "name": "stderr",
     "output_type": "stream",
     "text": [
      "284it [1:17:20, 14.16s/it]Unable to stream download: generator raised StopIteration\n"
     ]
    },
    {
     "name": "stdout",
     "output_type": "stream",
     "text": [
      "trying again\n"
     ]
    },
    {
     "name": "stderr",
     "output_type": "stream",
     "text": [
      "287it [1:18:10, 15.38s/it]Unable to stream download: generator raised StopIteration\n"
     ]
    },
    {
     "name": "stdout",
     "output_type": "stream",
     "text": [
      "trying again\n"
     ]
    },
    {
     "name": "stderr",
     "output_type": "stream",
     "text": [
      "300it [1:21:27, 14.55s/it]\n",
      "304it [1:23:42, 16.52s/it]\n",
      "0it [01:34, ?it/s]"
     ]
    },
    {
     "name": "stdout",
     "output_type": "stream",
     "text": [
      "breaks at batch_idx:  0\n"
     ]
    },
    {
     "name": "stderr",
     "output_type": "stream",
     "text": [
      "\n"
     ]
    },
    {
     "name": "stdout",
     "output_type": "stream",
     "text": [
      "current trajectory is:  ['abandonedfactory_night/Hard/P011/', 'seasidetown/Easy/P003/', 'hospital/Easy/P017/', 'seasidetown/Easy/P002/', 'hospital/Easy/P004/', 'abandonedfactory/Easy/P009/', 'westerndesert/Easy/P012/', 'hospital/Easy/P013/', 'hospital/Easy/P033/', 'hospital/Easy/P025/', 'hospital/Hard/P045/', 'abandonedfactory/Hard/P006/', 'gascola/Hard/P000/', 'office2/Hard/P001/', 'carwelding/Hard/P003/', 'office2/Hard/P006/']\n",
      "[334, 335, 337, 337, 339, 339, 341, 341, 341, 342, 342, 343, 345, 350, 352, 355] 5473 5216\n"
     ]
    },
    {
     "name": "stderr",
     "output_type": "stream",
     "text": [
      "50it [13:42, 14.13s/it]\n",
      "0it [00:00, ?it/s]\u001b[A"
     ]
    },
    {
     "name": "stdout",
     "output_type": "stream",
     "text": [
      "trying again\n",
      "trying again\n"
     ]
    },
    {
     "name": "stderr",
     "output_type": "stream",
     "text": [
      "\r",
      "0it [01:41, ?it/s]"
     ]
    },
    {
     "name": "stdout",
     "output_type": "stream",
     "text": [
      "breaks at batch_idx:  0\n"
     ]
    },
    {
     "name": "stderr",
     "output_type": "stream",
     "text": [
      "\n",
      "100it [27:08, 14.14s/it]\n",
      "0it [01:39, ?it/s]\u001b[A"
     ]
    },
    {
     "name": "stdout",
     "output_type": "stream",
     "text": [
      "breaks at batch_idx:  0\n"
     ]
    },
    {
     "name": "stderr",
     "output_type": "stream",
     "text": [
      "\n"
     ]
    },
    {
     "name": "stdout",
     "output_type": "stream",
     "text": [
      "Observe if the numbers match:  100 100 100\n"
     ]
    },
    {
     "name": "stderr",
     "output_type": "stream",
     "text": [
      "150it [40:25, 14.24s/it]\n",
      "0it [01:34, ?it/s]\u001b[A"
     ]
    },
    {
     "name": "stdout",
     "output_type": "stream",
     "text": [
      "breaks at batch_idx:  0\n"
     ]
    },
    {
     "name": "stderr",
     "output_type": "stream",
     "text": [
      "\n"
     ]
    },
    {
     "name": "stdout",
     "output_type": "stream",
     "text": [
      "Observe if the numbers match:  150 150 150\n"
     ]
    },
    {
     "name": "stderr",
     "output_type": "stream",
     "text": [
      "200it [53:32, 13.89s/it]\n",
      "0it [01:36, ?it/s]\u001b[A"
     ]
    },
    {
     "name": "stdout",
     "output_type": "stream",
     "text": [
      "breaks at batch_idx:  0\n"
     ]
    },
    {
     "name": "stderr",
     "output_type": "stream",
     "text": [
      "\n"
     ]
    },
    {
     "name": "stdout",
     "output_type": "stream",
     "text": [
      "Observe if the numbers match:  200 200 200\n"
     ]
    },
    {
     "name": "stderr",
     "output_type": "stream",
     "text": [
      "245it [1:05:35, 14.13s/it]"
     ]
    },
    {
     "name": "stdout",
     "output_type": "stream",
     "text": [
      "trying again\n"
     ]
    },
    {
     "name": "stderr",
     "output_type": "stream",
     "text": [
      "250it [1:06:51, 14.50s/it]\n",
      "0it [01:37, ?it/s]\u001b[A"
     ]
    },
    {
     "name": "stdout",
     "output_type": "stream",
     "text": [
      "breaks at batch_idx:  0\n"
     ]
    },
    {
     "name": "stderr",
     "output_type": "stream",
     "text": [
      "\n"
     ]
    },
    {
     "name": "stdout",
     "output_type": "stream",
     "text": [
      "Observe if the numbers match:  250 250 250\n"
     ]
    },
    {
     "name": "stderr",
     "output_type": "stream",
     "text": [
      "300it [1:20:05, 14.55s/it]\n",
      "0it [01:40, ?it/s]\u001b[A"
     ]
    },
    {
     "name": "stdout",
     "output_type": "stream",
     "text": [
      "breaks at batch_idx:  0\n"
     ]
    },
    {
     "name": "stderr",
     "output_type": "stream",
     "text": [
      "\n"
     ]
    },
    {
     "name": "stdout",
     "output_type": "stream",
     "text": [
      "Observe if the numbers match:  300 300 300\n"
     ]
    },
    {
     "name": "stderr",
     "output_type": "stream",
     "text": [
      "326it [1:27:48, 16.16s/it]\n",
      "0it [01:35, ?it/s]"
     ]
    },
    {
     "name": "stdout",
     "output_type": "stream",
     "text": [
      "breaks at batch_idx:  0\n"
     ]
    },
    {
     "name": "stderr",
     "output_type": "stream",
     "text": [
      "\n"
     ]
    },
    {
     "name": "stdout",
     "output_type": "stream",
     "text": [
      "current trajectory is:  ['carwelding/Easy/P007/', 'westerndesert/Easy/P005/', 'soulcity/Hard/P009/', 'soulcity/Easy/P003/', 'hospital/Easy/P022/', 'japanesealley/Hard/P004/', 'hospital/Easy/P008/', 'neighborhood/Easy/P015/', 'seasidetown/Hard/P003/', 'hospital/Easy/P028/', 'abandonedfactory_night/Easy/P009/', 'ocean/Easy/P009/', 'hospital/Easy/P027/', 'gascola/Hard/P001/', 'hospital/Easy/P024/', 'office2/Easy/P000/']\n",
      "[357, 359, 359, 360, 360, 362, 364, 365, 367, 368, 369, 373, 374, 375, 375, 378] 5865 5584\n"
     ]
    },
    {
     "name": "stderr",
     "output_type": "stream",
     "text": [
      "50it [13:51, 14.16s/it]\n",
      "0it [00:00, ?it/s]\u001b[A"
     ]
    },
    {
     "name": "stdout",
     "output_type": "stream",
     "text": [
      "trying again\n",
      "trying again\n"
     ]
    },
    {
     "name": "stderr",
     "output_type": "stream",
     "text": [
      "\r",
      "0it [01:39, ?it/s]"
     ]
    },
    {
     "name": "stdout",
     "output_type": "stream",
     "text": [
      "breaks at batch_idx:  0\n"
     ]
    },
    {
     "name": "stderr",
     "output_type": "stream",
     "text": [
      "\n",
      "65it [18:46, 14.59s/it]"
     ]
    },
    {
     "name": "stdout",
     "output_type": "stream",
     "text": [
      "trying again\n"
     ]
    },
    {
     "name": "stderr",
     "output_type": "stream",
     "text": [
      "100it [27:19, 14.81s/it]\n",
      "0it [01:36, ?it/s]\u001b[A"
     ]
    },
    {
     "name": "stdout",
     "output_type": "stream",
     "text": [
      "breaks at batch_idx:  0\n"
     ]
    },
    {
     "name": "stderr",
     "output_type": "stream",
     "text": [
      "\n"
     ]
    },
    {
     "name": "stdout",
     "output_type": "stream",
     "text": [
      "Observe if the numbers match:  100 100 100\n"
     ]
    },
    {
     "name": "stderr",
     "output_type": "stream",
     "text": [
      "150it [40:40, 14.07s/it]\n",
      "0it [01:40, ?it/s]\u001b[A"
     ]
    },
    {
     "name": "stdout",
     "output_type": "stream",
     "text": [
      "breaks at batch_idx:  0\n"
     ]
    },
    {
     "name": "stderr",
     "output_type": "stream",
     "text": [
      "\n"
     ]
    },
    {
     "name": "stdout",
     "output_type": "stream",
     "text": [
      "Observe if the numbers match:  150 150 150\n"
     ]
    },
    {
     "name": "stderr",
     "output_type": "stream",
     "text": [
      "200it [54:12, 14.61s/it]\n",
      "0it [01:35, ?it/s]\u001b[A"
     ]
    },
    {
     "name": "stdout",
     "output_type": "stream",
     "text": [
      "breaks at batch_idx:  0\n"
     ]
    },
    {
     "name": "stderr",
     "output_type": "stream",
     "text": [
      "\n"
     ]
    },
    {
     "name": "stdout",
     "output_type": "stream",
     "text": [
      "Observe if the numbers match:  200 200 200\n"
     ]
    },
    {
     "name": "stderr",
     "output_type": "stream",
     "text": [
      "250it [1:07:26, 13.94s/it]\n",
      "0it [01:39, ?it/s]\u001b[A"
     ]
    },
    {
     "name": "stdout",
     "output_type": "stream",
     "text": [
      "breaks at batch_idx:  0\n"
     ]
    },
    {
     "name": "stderr",
     "output_type": "stream",
     "text": [
      "\n"
     ]
    },
    {
     "name": "stdout",
     "output_type": "stream",
     "text": [
      "Observe if the numbers match:  250 250 250\n"
     ]
    },
    {
     "name": "stderr",
     "output_type": "stream",
     "text": [
      "300it [1:21:04, 14.46s/it]\n",
      "0it [01:36, ?it/s]\u001b[A"
     ]
    },
    {
     "name": "stdout",
     "output_type": "stream",
     "text": [
      "breaks at batch_idx:  0\n"
     ]
    },
    {
     "name": "stderr",
     "output_type": "stream",
     "text": [
      "\n"
     ]
    },
    {
     "name": "stdout",
     "output_type": "stream",
     "text": [
      "Observe if the numbers match:  300 300 300\n"
     ]
    },
    {
     "name": "stderr",
     "output_type": "stream",
     "text": [
      "349it [1:34:06, 16.18s/it]\n",
      "0it [01:36, ?it/s]"
     ]
    },
    {
     "name": "stdout",
     "output_type": "stream",
     "text": [
      "breaks at batch_idx:  0\n"
     ]
    },
    {
     "name": "stderr",
     "output_type": "stream",
     "text": [
      "\n"
     ]
    },
    {
     "name": "stdout",
     "output_type": "stream",
     "text": [
      "current trajectory is:  ['hospital/Easy/P019/', 'gascola/Easy/P001/', 'hospital/Easy/P002/', 'hospital/Easy/P023/', 'ocean/Hard/P005/', 'seasonsforest/Easy/P011/', 'westerndesert/Easy/P002/', 'japanesealley/Hard/P002/', 'abandonedfactory_night/Hard/P006/', 'carwelding/Easy/P004/', 'japanesealley/Hard/P000/', 'seasonsforest_winter/Easy/P008/', 'seasonsforest_winter/Hard/P015/', 'hospital/Hard/P037/', 'seasidetown/Easy/P001/', 'hospital/Easy/P009/']\n",
      "[380, 382, 385, 387, 387, 389, 390, 391, 392, 392, 397, 399, 400, 403, 403, 406] 6283 5952\n"
     ]
    },
    {
     "name": "stderr",
     "output_type": "stream",
     "text": [
      "50it [13:43, 13.87s/it]\n",
      "0it [00:00, ?it/s]\u001b[A"
     ]
    },
    {
     "name": "stdout",
     "output_type": "stream",
     "text": [
      "trying again\n"
     ]
    },
    {
     "name": "stderr",
     "output_type": "stream",
     "text": [
      "Unable to stream download: [('SSL routines', 'ssl3_get_record', 'decryption failed or bad record mac')]\n"
     ]
    },
    {
     "name": "stdout",
     "output_type": "stream",
     "text": [
      "trying again\n"
     ]
    },
    {
     "name": "stderr",
     "output_type": "stream",
     "text": [
      "\r",
      "0it [01:36, ?it/s]"
     ]
    },
    {
     "name": "stdout",
     "output_type": "stream",
     "text": [
      "breaks at batch_idx:  0\n"
     ]
    },
    {
     "name": "stderr",
     "output_type": "stream",
     "text": [
      "\n",
      "100it [27:03, 14.34s/it]\n",
      "0it [01:36, ?it/s]\u001b[A"
     ]
    },
    {
     "name": "stdout",
     "output_type": "stream",
     "text": [
      "breaks at batch_idx:  0\n"
     ]
    },
    {
     "name": "stderr",
     "output_type": "stream",
     "text": [
      "\n"
     ]
    },
    {
     "name": "stdout",
     "output_type": "stream",
     "text": [
      "Observe if the numbers match:  100 100 100\n"
     ]
    },
    {
     "name": "stderr",
     "output_type": "stream",
     "text": [
      "150it [40:18, 14.14s/it]\n",
      "0it [01:35, ?it/s]\u001b[A"
     ]
    },
    {
     "name": "stdout",
     "output_type": "stream",
     "text": [
      "breaks at batch_idx:  0\n"
     ]
    },
    {
     "name": "stderr",
     "output_type": "stream",
     "text": [
      "\n"
     ]
    },
    {
     "name": "stdout",
     "output_type": "stream",
     "text": [
      "Observe if the numbers match:  150 150 150\n"
     ]
    },
    {
     "name": "stderr",
     "output_type": "stream",
     "text": [
      "200it [53:51, 14.62s/it]\n",
      "0it [01:34, ?it/s]\u001b[A"
     ]
    },
    {
     "name": "stdout",
     "output_type": "stream",
     "text": [
      "breaks at batch_idx:  0\n"
     ]
    },
    {
     "name": "stderr",
     "output_type": "stream",
     "text": [
      "\n"
     ]
    },
    {
     "name": "stdout",
     "output_type": "stream",
     "text": [
      "Observe if the numbers match:  200 200 200\n"
     ]
    },
    {
     "name": "stderr",
     "output_type": "stream",
     "text": [
      "250it [1:07:04, 14.25s/it]\n",
      "0it [01:35, ?it/s]\u001b[A"
     ]
    },
    {
     "name": "stdout",
     "output_type": "stream",
     "text": [
      "breaks at batch_idx:  0\n"
     ]
    },
    {
     "name": "stderr",
     "output_type": "stream",
     "text": [
      "\n"
     ]
    },
    {
     "name": "stdout",
     "output_type": "stream",
     "text": [
      "Observe if the numbers match:  250 250 250\n"
     ]
    },
    {
     "name": "stderr",
     "output_type": "stream",
     "text": [
      "300it [1:20:13, 14.16s/it]\n",
      "0it [01:36, ?it/s]\u001b[A"
     ]
    },
    {
     "name": "stdout",
     "output_type": "stream",
     "text": [
      "breaks at batch_idx:  0\n"
     ]
    },
    {
     "name": "stderr",
     "output_type": "stream",
     "text": [
      "\n"
     ]
    },
    {
     "name": "stdout",
     "output_type": "stream",
     "text": [
      "Observe if the numbers match:  300 300 300\n"
     ]
    },
    {
     "name": "stderr",
     "output_type": "stream",
     "text": [
      "350it [1:33:34, 14.83s/it]\n",
      "0it [01:35, ?it/s]\u001b[A"
     ]
    },
    {
     "name": "stdout",
     "output_type": "stream",
     "text": [
      "breaks at batch_idx:  0\n"
     ]
    },
    {
     "name": "stderr",
     "output_type": "stream",
     "text": [
      "\n"
     ]
    },
    {
     "name": "stdout",
     "output_type": "stream",
     "text": [
      "Observe if the numbers match:  350 350 350\n"
     ]
    },
    {
     "name": "stderr",
     "output_type": "stream",
     "text": [
      "372it [1:40:06, 16.15s/it]\n",
      "0it [01:34, ?it/s]"
     ]
    },
    {
     "name": "stdout",
     "output_type": "stream",
     "text": [
      "breaks at batch_idx:  0\n"
     ]
    },
    {
     "name": "stderr",
     "output_type": "stream",
     "text": [
      "\n"
     ]
    },
    {
     "name": "stdout",
     "output_type": "stream",
     "text": [
      "current trajectory is:  ['hospital/Easy/P036/', 'carwelding/Easy/P005/', 'westerndesert/Easy/P008/', 'hospital/Hard/P040/', 'ocean/Easy/P005/', 'seasonsforest/Easy/P008/', 'hospital/Easy/P031/', 'hospital/Easy/P026/', 'oldtown/Hard/P004/', 'carwelding/Hard/P000/', 'abandonedfactory_night/Easy/P002/', 'westerndesert/Easy/P007/', 'seasonsforest/Easy/P010/', 'seasonsforest/Easy/P007/', 'abandonedfactory_night/Hard/P014/', 'seasonsforest_winter/Easy/P009/']\n",
      "[416, 429, 430, 437, 440, 441, 443, 447, 452, 452, 456, 457, 459, 459, 460, 462] 7140 6528\n"
     ]
    },
    {
     "name": "stderr",
     "output_type": "stream",
     "text": [
      "15it [05:15, 14.52s/it]Unable to stream download: generator raised StopIteration\n"
     ]
    },
    {
     "name": "stdout",
     "output_type": "stream",
     "text": [
      "trying again\n"
     ]
    },
    {
     "name": "stderr",
     "output_type": "stream",
     "text": [
      "50it [13:39, 14.35s/it]\n",
      "0it [00:00, ?it/s]\u001b[A"
     ]
    },
    {
     "name": "stdout",
     "output_type": "stream",
     "text": [
      "trying again\n"
     ]
    },
    {
     "name": "stderr",
     "output_type": "stream",
     "text": [
      "\r",
      "0it [01:43, ?it/s]"
     ]
    },
    {
     "name": "stdout",
     "output_type": "stream",
     "text": [
      "breaks at batch_idx:  0\n"
     ]
    },
    {
     "name": "stderr",
     "output_type": "stream",
     "text": [
      "\n",
      "100it [27:04, 14.17s/it]\n",
      "0it [00:00, ?it/s]\u001b[A"
     ]
    },
    {
     "name": "stdout",
     "output_type": "stream",
     "text": [
      "trying again\n"
     ]
    },
    {
     "name": "stderr",
     "output_type": "stream",
     "text": [
      "\r",
      "0it [01:42, ?it/s]"
     ]
    },
    {
     "name": "stdout",
     "output_type": "stream",
     "text": [
      "breaks at batch_idx:  0\n"
     ]
    },
    {
     "name": "stderr",
     "output_type": "stream",
     "text": [
      "\n"
     ]
    },
    {
     "name": "stdout",
     "output_type": "stream",
     "text": [
      "Observe if the numbers match:  100 100 100\n"
     ]
    },
    {
     "name": "stderr",
     "output_type": "stream",
     "text": [
      "150it [40:42, 14.24s/it]\n",
      "0it [01:38, ?it/s]\u001b[A"
     ]
    },
    {
     "name": "stdout",
     "output_type": "stream",
     "text": [
      "breaks at batch_idx:  0\n"
     ]
    },
    {
     "name": "stderr",
     "output_type": "stream",
     "text": [
      "\n"
     ]
    },
    {
     "name": "stdout",
     "output_type": "stream",
     "text": [
      "Observe if the numbers match:  150 150 150\n"
     ]
    },
    {
     "name": "stderr",
     "output_type": "stream",
     "text": [
      "172it [47:20, 14.60s/it]"
     ]
    },
    {
     "name": "stdout",
     "output_type": "stream",
     "text": [
      "trying again\n"
     ]
    },
    {
     "name": "stderr",
     "output_type": "stream",
     "text": [
      "200it [54:09, 14.04s/it]\n",
      "0it [01:47, ?it/s]\u001b[A"
     ]
    },
    {
     "name": "stdout",
     "output_type": "stream",
     "text": [
      "breaks at batch_idx:  0\n"
     ]
    },
    {
     "name": "stderr",
     "output_type": "stream",
     "text": [
      "\n"
     ]
    },
    {
     "name": "stdout",
     "output_type": "stream",
     "text": [
      "Observe if the numbers match:  200 200 200\n"
     ]
    },
    {
     "name": "stderr",
     "output_type": "stream",
     "text": [
      "250it [1:07:49, 14.39s/it]\n",
      "0it [01:34, ?it/s]\u001b[A"
     ]
    },
    {
     "name": "stdout",
     "output_type": "stream",
     "text": [
      "breaks at batch_idx:  0\n"
     ]
    },
    {
     "name": "stderr",
     "output_type": "stream",
     "text": [
      "\n"
     ]
    },
    {
     "name": "stdout",
     "output_type": "stream",
     "text": [
      "Observe if the numbers match:  250 250 250\n"
     ]
    },
    {
     "name": "stderr",
     "output_type": "stream",
     "text": [
      "300it [1:21:15, 14.72s/it]\n",
      "0it [01:49, ?it/s]\u001b[A"
     ]
    },
    {
     "name": "stdout",
     "output_type": "stream",
     "text": [
      "breaks at batch_idx:  0\n"
     ]
    },
    {
     "name": "stderr",
     "output_type": "stream",
     "text": [
      "\n"
     ]
    },
    {
     "name": "stdout",
     "output_type": "stream",
     "text": [
      "Observe if the numbers match:  300 300 300\n"
     ]
    },
    {
     "name": "stderr",
     "output_type": "stream",
     "text": [
      "350it [1:34:47, 14.23s/it]\n",
      "0it [01:37, ?it/s]\u001b[A"
     ]
    },
    {
     "name": "stdout",
     "output_type": "stream",
     "text": [
      "breaks at batch_idx:  0\n"
     ]
    },
    {
     "name": "stderr",
     "output_type": "stream",
     "text": [
      "\n"
     ]
    },
    {
     "name": "stdout",
     "output_type": "stream",
     "text": [
      "Observe if the numbers match:  350 350 350\n"
     ]
    },
    {
     "name": "stderr",
     "output_type": "stream",
     "text": [
      "400it [1:48:03, 14.30s/it]\n",
      "0it [01:36, ?it/s]\u001b[A"
     ]
    },
    {
     "name": "stdout",
     "output_type": "stream",
     "text": [
      "breaks at batch_idx:  0\n"
     ]
    },
    {
     "name": "stderr",
     "output_type": "stream",
     "text": [
      "\n"
     ]
    },
    {
     "name": "stdout",
     "output_type": "stream",
     "text": [
      "Observe if the numbers match:  400 400 400\n"
     ]
    },
    {
     "name": "stderr",
     "output_type": "stream",
     "text": [
      "408it [1:51:16, 16.36s/it]\n",
      "0it [01:32, ?it/s]"
     ]
    },
    {
     "name": "stdout",
     "output_type": "stream",
     "text": [
      "breaks at batch_idx:  0\n"
     ]
    },
    {
     "name": "stderr",
     "output_type": "stream",
     "text": [
      "\n"
     ]
    },
    {
     "name": "stdout",
     "output_type": "stream",
     "text": [
      "current trajectory is:  ['westerndesert/Hard/P004/', 'abandonedfactory_night/Hard/P001/', 'endofworld/Easy/P001/', 'hospital/Easy/P003/', 'hospital/Hard/P046/', 'office2/Hard/P007/', 'westerndesert/Easy/P010/', 'seasonsforest_winter/Hard/P014/', 'ocean/Easy/P001/', 'soulcity/Hard/P001/', 'endofworld/Hard/P005/', 'seasonsforest/Hard/P005/', 'hospital/Easy/P021/', 'hospital/Easy/P016/', 'ocean/Hard/P004/', 'hospital/Hard/P048/']\n",
      "[462, 464, 466, 468, 473, 473, 477, 480, 480, 483, 483, 484, 488, 489, 490, 493] 7653 7264\n"
     ]
    },
    {
     "name": "stderr",
     "output_type": "stream",
     "text": [
      "19it [06:16, 14.22s/it]Unable to stream download: generator raised StopIteration\n"
     ]
    },
    {
     "name": "stdout",
     "output_type": "stream",
     "text": [
      "trying again\n"
     ]
    },
    {
     "name": "stderr",
     "output_type": "stream",
     "text": [
      "50it [13:35, 13.88s/it]\n",
      "0it [00:00, ?it/s]\u001b[A"
     ]
    },
    {
     "name": "stdout",
     "output_type": "stream",
     "text": [
      "trying again\n"
     ]
    },
    {
     "name": "stderr",
     "output_type": "stream",
     "text": [
      "\r",
      "0it [01:39, ?it/s]"
     ]
    },
    {
     "name": "stdout",
     "output_type": "stream",
     "text": [
      "breaks at batch_idx:  0\n"
     ]
    },
    {
     "name": "stderr",
     "output_type": "stream",
     "text": [
      "\n",
      "61it [17:30, 14.51s/it]Unable to stream download: generator raised StopIteration\n"
     ]
    },
    {
     "name": "stdout",
     "output_type": "stream",
     "text": [
      "trying again\n"
     ]
    },
    {
     "name": "stderr",
     "output_type": "stream",
     "text": [
      "100it [27:03, 14.49s/it]\n",
      "0it [00:00, ?it/s]\u001b[A"
     ]
    },
    {
     "name": "stdout",
     "output_type": "stream",
     "text": [
      "trying again\n"
     ]
    },
    {
     "name": "stderr",
     "output_type": "stream",
     "text": [
      "\r",
      "0it [01:42, ?it/s]"
     ]
    },
    {
     "name": "stdout",
     "output_type": "stream",
     "text": [
      "breaks at batch_idx:  0\n"
     ]
    },
    {
     "name": "stderr",
     "output_type": "stream",
     "text": [
      "\n"
     ]
    },
    {
     "name": "stdout",
     "output_type": "stream",
     "text": [
      "Observe if the numbers match:  100 100 100\n"
     ]
    },
    {
     "name": "stderr",
     "output_type": "stream",
     "text": [
      "150it [40:22, 14.33s/it]\n",
      "0it [01:36, ?it/s]\u001b[A"
     ]
    },
    {
     "name": "stdout",
     "output_type": "stream",
     "text": [
      "breaks at batch_idx:  0\n"
     ]
    },
    {
     "name": "stderr",
     "output_type": "stream",
     "text": [
      "\n"
     ]
    },
    {
     "name": "stdout",
     "output_type": "stream",
     "text": [
      "Observe if the numbers match:  150 150 150\n"
     ]
    },
    {
     "name": "stderr",
     "output_type": "stream",
     "text": [
      "200it [53:44, 14.33s/it]\n",
      "0it [01:38, ?it/s]\u001b[A"
     ]
    },
    {
     "name": "stdout",
     "output_type": "stream",
     "text": [
      "breaks at batch_idx:  0\n"
     ]
    },
    {
     "name": "stderr",
     "output_type": "stream",
     "text": [
      "\n"
     ]
    },
    {
     "name": "stdout",
     "output_type": "stream",
     "text": [
      "Observe if the numbers match:  200 200 200\n"
     ]
    },
    {
     "name": "stderr",
     "output_type": "stream",
     "text": [
      "250it [1:07:17, 14.57s/it]\n",
      "0it [01:38, ?it/s]\u001b[A"
     ]
    },
    {
     "name": "stdout",
     "output_type": "stream",
     "text": [
      "breaks at batch_idx:  0\n"
     ]
    },
    {
     "name": "stderr",
     "output_type": "stream",
     "text": [
      "\n"
     ]
    },
    {
     "name": "stdout",
     "output_type": "stream",
     "text": [
      "Observe if the numbers match:  250 250 250\n"
     ]
    },
    {
     "name": "stderr",
     "output_type": "stream",
     "text": [
      "300it [1:20:31, 14.07s/it]\n",
      "0it [01:36, ?it/s]\u001b[A"
     ]
    },
    {
     "name": "stdout",
     "output_type": "stream",
     "text": [
      "breaks at batch_idx:  0\n"
     ]
    },
    {
     "name": "stderr",
     "output_type": "stream",
     "text": [
      "\n"
     ]
    },
    {
     "name": "stdout",
     "output_type": "stream",
     "text": [
      "Observe if the numbers match:  300 300 300\n"
     ]
    },
    {
     "name": "stderr",
     "output_type": "stream",
     "text": [
      "326it [1:28:08, 14.57s/it]"
     ]
    },
    {
     "name": "stdout",
     "output_type": "stream",
     "text": [
      "trying again\n"
     ]
    },
    {
     "name": "stderr",
     "output_type": "stream",
     "text": [
      "350it [1:33:56, 14.02s/it]\n",
      "0it [01:36, ?it/s]\u001b[A"
     ]
    },
    {
     "name": "stdout",
     "output_type": "stream",
     "text": [
      "breaks at batch_idx:  0\n"
     ]
    },
    {
     "name": "stderr",
     "output_type": "stream",
     "text": [
      "\n"
     ]
    },
    {
     "name": "stdout",
     "output_type": "stream",
     "text": [
      "Observe if the numbers match:  350 350 350\n"
     ]
    },
    {
     "name": "stderr",
     "output_type": "stream",
     "text": [
      "400it [1:47:00, 14.08s/it]\n",
      "0it [01:36, ?it/s]\u001b[A"
     ]
    },
    {
     "name": "stdout",
     "output_type": "stream",
     "text": [
      "breaks at batch_idx:  0\n"
     ]
    },
    {
     "name": "stderr",
     "output_type": "stream",
     "text": [
      "\n"
     ]
    },
    {
     "name": "stdout",
     "output_type": "stream",
     "text": [
      "Observe if the numbers match:  400 400 400\n"
     ]
    },
    {
     "name": "stderr",
     "output_type": "stream",
     "text": [
      "425it [1:54:17, 14.30s/it]Unable to stream download: generator raised StopIteration\n"
     ]
    },
    {
     "name": "stdout",
     "output_type": "stream",
     "text": [
      "trying again\n"
     ]
    },
    {
     "name": "stderr",
     "output_type": "stream",
     "text": [
      "450it [2:00:15, 14.08s/it]\n",
      "0it [01:34, ?it/s]\u001b[A"
     ]
    },
    {
     "name": "stdout",
     "output_type": "stream",
     "text": [
      "breaks at batch_idx:  0\n"
     ]
    },
    {
     "name": "stderr",
     "output_type": "stream",
     "text": [
      "\n"
     ]
    },
    {
     "name": "stdout",
     "output_type": "stream",
     "text": [
      "Observe if the numbers match:  450 450 450\n"
     ]
    },
    {
     "name": "stderr",
     "output_type": "stream",
     "text": [
      "454it [2:02:27, 16.18s/it]\n",
      "0it [01:34, ?it/s]"
     ]
    },
    {
     "name": "stdout",
     "output_type": "stream",
     "text": [
      "breaks at batch_idx:  0\n"
     ]
    },
    {
     "name": "stderr",
     "output_type": "stream",
     "text": [
      "\n"
     ]
    },
    {
     "name": "stdout",
     "output_type": "stream",
     "text": [
      "current trajectory is:  ['hospital/Easy/P005/', 'office/Hard/P006/', 'neighborhood/Hard/P013/', 'soulcity/Easy/P007/', 'endofworld/Hard/P002/', 'oldtown/Hard/P006/', 'seasidetown/Easy/P004/', 'carwelding/Hard/P002/', 'japanesealley/Easy/P007/', 'westerndesert/Hard/P003/', 'amusement/Hard/P000/', 'ocean/Hard/P009/', 'ocean/Hard/P001/', 'neighborhood/Easy/P002/', 'ocean/Easy/P012/', 'abandonedfactory_night/Hard/P010/']\n",
      "[494, 496, 497, 497, 502, 504, 507, 507, 510, 510, 512, 513, 521, 523, 523, 525] 8141 7776\n"
     ]
    },
    {
     "name": "stderr",
     "output_type": "stream",
     "text": [
      "50it [13:40, 14.21s/it]\n",
      "0it [01:34, ?it/s]\u001b[A"
     ]
    },
    {
     "name": "stdout",
     "output_type": "stream",
     "text": [
      "breaks at batch_idx:  0\n"
     ]
    },
    {
     "name": "stderr",
     "output_type": "stream",
     "text": [
      "\n",
      "59it [17:04, 15.14s/it]Unable to stream download: generator raised StopIteration\n"
     ]
    },
    {
     "name": "stdout",
     "output_type": "stream",
     "text": [
      "trying again\n"
     ]
    },
    {
     "name": "stderr",
     "output_type": "stream",
     "text": [
      "100it [26:56, 14.21s/it]\n",
      "0it [01:36, ?it/s]\u001b[A"
     ]
    },
    {
     "name": "stdout",
     "output_type": "stream",
     "text": [
      "breaks at batch_idx:  0\n"
     ]
    },
    {
     "name": "stderr",
     "output_type": "stream",
     "text": [
      "\n"
     ]
    },
    {
     "name": "stdout",
     "output_type": "stream",
     "text": [
      "Observe if the numbers match:  100 100 100\n"
     ]
    },
    {
     "name": "stderr",
     "output_type": "stream",
     "text": [
      "150it [40:07, 14.42s/it]\n",
      "0it [01:36, ?it/s]\u001b[A"
     ]
    },
    {
     "name": "stdout",
     "output_type": "stream",
     "text": [
      "breaks at batch_idx:  0\n"
     ]
    },
    {
     "name": "stderr",
     "output_type": "stream",
     "text": [
      "\n"
     ]
    },
    {
     "name": "stdout",
     "output_type": "stream",
     "text": [
      "Observe if the numbers match:  150 150 150\n"
     ]
    },
    {
     "name": "stderr",
     "output_type": "stream",
     "text": [
      "200it [53:26, 14.41s/it]\n",
      "0it [01:40, ?it/s]\u001b[A"
     ]
    },
    {
     "name": "stdout",
     "output_type": "stream",
     "text": [
      "breaks at batch_idx:  0\n"
     ]
    },
    {
     "name": "stderr",
     "output_type": "stream",
     "text": [
      "\n"
     ]
    },
    {
     "name": "stdout",
     "output_type": "stream",
     "text": [
      "Observe if the numbers match:  200 200 200\n"
     ]
    },
    {
     "name": "stderr",
     "output_type": "stream",
     "text": [
      "250it [1:06:59, 14.45s/it]\n",
      "0it [01:38, ?it/s]\u001b[A"
     ]
    },
    {
     "name": "stdout",
     "output_type": "stream",
     "text": [
      "breaks at batch_idx:  0\n"
     ]
    },
    {
     "name": "stderr",
     "output_type": "stream",
     "text": [
      "\n"
     ]
    },
    {
     "name": "stdout",
     "output_type": "stream",
     "text": [
      "Observe if the numbers match:  250 250 250\n"
     ]
    },
    {
     "name": "stderr",
     "output_type": "stream",
     "text": [
      "300it [1:20:25, 14.12s/it]\n",
      "0it [01:39, ?it/s]\u001b[A"
     ]
    },
    {
     "name": "stdout",
     "output_type": "stream",
     "text": [
      "breaks at batch_idx:  0\n"
     ]
    },
    {
     "name": "stderr",
     "output_type": "stream",
     "text": [
      "\n"
     ]
    },
    {
     "name": "stdout",
     "output_type": "stream",
     "text": [
      "Observe if the numbers match:  300 300 300\n"
     ]
    },
    {
     "name": "stderr",
     "output_type": "stream",
     "text": [
      "350it [1:33:50, 14.79s/it]\n",
      "0it [01:48, ?it/s]\u001b[A"
     ]
    },
    {
     "name": "stdout",
     "output_type": "stream",
     "text": [
      "breaks at batch_idx:  0\n"
     ]
    },
    {
     "name": "stderr",
     "output_type": "stream",
     "text": [
      "\n"
     ]
    },
    {
     "name": "stdout",
     "output_type": "stream",
     "text": [
      "Observe if the numbers match:  350 350 350\n"
     ]
    },
    {
     "name": "stderr",
     "output_type": "stream",
     "text": [
      "400it [1:47:42, 14.06s/it]\n",
      "0it [01:34, ?it/s]\u001b[A"
     ]
    },
    {
     "name": "stdout",
     "output_type": "stream",
     "text": [
      "breaks at batch_idx:  0\n"
     ]
    },
    {
     "name": "stderr",
     "output_type": "stream",
     "text": [
      "\n"
     ]
    },
    {
     "name": "stdout",
     "output_type": "stream",
     "text": [
      "Observe if the numbers match:  400 400 400\n"
     ]
    },
    {
     "name": "stderr",
     "output_type": "stream",
     "text": [
      "440it [1:58:38, 14.51s/it]Unable to stream download: generator raised StopIteration\n"
     ]
    },
    {
     "name": "stdout",
     "output_type": "stream",
     "text": [
      "trying again\n"
     ]
    },
    {
     "name": "stderr",
     "output_type": "stream",
     "text": [
      "450it [2:01:07, 14.16s/it]\n",
      "0it [01:34, ?it/s]\u001b[A"
     ]
    },
    {
     "name": "stdout",
     "output_type": "stream",
     "text": [
      "breaks at batch_idx:  0\n"
     ]
    },
    {
     "name": "stderr",
     "output_type": "stream",
     "text": [
      "\n"
     ]
    },
    {
     "name": "stdout",
     "output_type": "stream",
     "text": [
      "Observe if the numbers match:  450 450 450\n"
     ]
    },
    {
     "name": "stderr",
     "output_type": "stream",
     "text": [
      "486it [2:10:57, 16.17s/it]\n",
      "0it [01:48, ?it/s]"
     ]
    },
    {
     "name": "stdout",
     "output_type": "stream",
     "text": [
      "breaks at batch_idx:  0\n"
     ]
    },
    {
     "name": "stderr",
     "output_type": "stream",
     "text": [
      "\n"
     ]
    },
    {
     "name": "stdout",
     "output_type": "stream",
     "text": [
      "current trajectory is:  ['ocean/Easy/P002/', 'seasonsforest_winter/Hard/P013/', 'amusement/Easy/P007/', 'hospital/Hard/P047/', 'neighborhood/Hard/P007/', 'amusement/Hard/P001/', 'westerndesert/Easy/P006/', 'office2/Easy/P005/', 'endofworld/Easy/P007/', 'endofworld/Easy/P009/', 'seasonsforest/Hard/P001/', 'amusement/Hard/P007/', 'hospital/Hard/P042/', 'soulcity/Easy/P002/', 'ocean/Easy/P011/', 'neighborhood/Hard/P014/']\n",
      "[526, 529, 532, 533, 533, 537, 538, 542, 542, 543, 550, 550, 551, 552, 553, 554] 8665 8288\n"
     ]
    },
    {
     "name": "stderr",
     "output_type": "stream",
     "text": [
      "\r",
      "0it [00:00, ?it/s]"
     ]
    },
    {
     "name": "stdout",
     "output_type": "stream",
     "text": [
      "trying again\n"
     ]
    },
    {
     "name": "stderr",
     "output_type": "stream",
     "text": [
      "13it [05:11, 15.98s/it]Unable to stream download: generator raised StopIteration\n"
     ]
    },
    {
     "name": "stdout",
     "output_type": "stream",
     "text": [
      "trying again\n"
     ]
    },
    {
     "name": "stderr",
     "output_type": "stream",
     "text": [
      "50it [14:14, 14.36s/it]\n",
      "0it [00:00, ?it/s]\u001b[A"
     ]
    },
    {
     "name": "stdout",
     "output_type": "stream",
     "text": [
      "trying again\n"
     ]
    },
    {
     "name": "stderr",
     "output_type": "stream",
     "text": [
      "\r",
      "0it [01:42, ?it/s]"
     ]
    },
    {
     "name": "stdout",
     "output_type": "stream",
     "text": [
      "breaks at batch_idx:  0\n"
     ]
    },
    {
     "name": "stderr",
     "output_type": "stream",
     "text": [
      "\n",
      "100it [27:46, 14.56s/it]\n",
      "0it [01:40, ?it/s]\u001b[A"
     ]
    },
    {
     "name": "stdout",
     "output_type": "stream",
     "text": [
      "breaks at batch_idx:  0\n"
     ]
    },
    {
     "name": "stderr",
     "output_type": "stream",
     "text": [
      "\n"
     ]
    },
    {
     "name": "stdout",
     "output_type": "stream",
     "text": [
      "Observe if the numbers match:  100 100 100\n"
     ]
    },
    {
     "name": "stderr",
     "output_type": "stream",
     "text": [
      "150it [41:09, 14.50s/it]\n",
      "0it [01:38, ?it/s]\u001b[A"
     ]
    },
    {
     "name": "stdout",
     "output_type": "stream",
     "text": [
      "breaks at batch_idx:  0\n"
     ]
    },
    {
     "name": "stderr",
     "output_type": "stream",
     "text": [
      "\n"
     ]
    },
    {
     "name": "stdout",
     "output_type": "stream",
     "text": [
      "Observe if the numbers match:  150 150 150\n"
     ]
    },
    {
     "name": "stderr",
     "output_type": "stream",
     "text": [
      "200it [54:47, 14.33s/it]\n",
      "0it [01:35, ?it/s]\u001b[A"
     ]
    },
    {
     "name": "stdout",
     "output_type": "stream",
     "text": [
      "breaks at batch_idx:  0\n"
     ]
    },
    {
     "name": "stderr",
     "output_type": "stream",
     "text": [
      "\n"
     ]
    },
    {
     "name": "stdout",
     "output_type": "stream",
     "text": [
      "Observe if the numbers match:  200 200 200\n"
     ]
    },
    {
     "name": "stderr",
     "output_type": "stream",
     "text": [
      "250it [1:08:03, 14.31s/it]\n",
      "0it [01:34, ?it/s]\u001b[A"
     ]
    },
    {
     "name": "stdout",
     "output_type": "stream",
     "text": [
      "breaks at batch_idx:  0\n"
     ]
    },
    {
     "name": "stderr",
     "output_type": "stream",
     "text": [
      "\n"
     ]
    },
    {
     "name": "stdout",
     "output_type": "stream",
     "text": [
      "Observe if the numbers match:  250 250 250\n"
     ]
    },
    {
     "name": "stderr",
     "output_type": "stream",
     "text": [
      "300it [1:21:29, 17.26s/it]\n",
      "0it [01:35, ?it/s]\u001b[A"
     ]
    },
    {
     "name": "stdout",
     "output_type": "stream",
     "text": [
      "breaks at batch_idx:  0\n"
     ]
    },
    {
     "name": "stderr",
     "output_type": "stream",
     "text": [
      "\n"
     ]
    },
    {
     "name": "stdout",
     "output_type": "stream",
     "text": [
      "Observe if the numbers match:  300 300 300\n"
     ]
    },
    {
     "name": "stderr",
     "output_type": "stream",
     "text": [
      "350it [1:34:43, 14.21s/it]\n",
      "0it [01:38, ?it/s]\u001b[A"
     ]
    },
    {
     "name": "stdout",
     "output_type": "stream",
     "text": [
      "breaks at batch_idx:  0\n"
     ]
    },
    {
     "name": "stderr",
     "output_type": "stream",
     "text": [
      "\n"
     ]
    },
    {
     "name": "stdout",
     "output_type": "stream",
     "text": [
      "Observe if the numbers match:  350 350 350\n"
     ]
    },
    {
     "name": "stderr",
     "output_type": "stream",
     "text": [
      "400it [1:48:11, 14.77s/it]\n",
      "0it [01:47, ?it/s]\u001b[A"
     ]
    },
    {
     "name": "stdout",
     "output_type": "stream",
     "text": [
      "breaks at batch_idx:  0\n"
     ]
    },
    {
     "name": "stderr",
     "output_type": "stream",
     "text": [
      "\n"
     ]
    },
    {
     "name": "stdout",
     "output_type": "stream",
     "text": [
      "Observe if the numbers match:  400 400 400\n"
     ]
    },
    {
     "name": "stderr",
     "output_type": "stream",
     "text": [
      "450it [2:01:52, 15.20s/it]\n",
      "0it [01:39, ?it/s]\u001b[A"
     ]
    },
    {
     "name": "stdout",
     "output_type": "stream",
     "text": [
      "breaks at batch_idx:  0\n"
     ]
    },
    {
     "name": "stderr",
     "output_type": "stream",
     "text": [
      "\n"
     ]
    },
    {
     "name": "stdout",
     "output_type": "stream",
     "text": [
      "Observe if the numbers match:  450 450 450\n"
     ]
    },
    {
     "name": "stderr",
     "output_type": "stream",
     "text": [
      "453it [2:03:56, 23.73s/it]Unable to stream download: generator raised StopIteration\n"
     ]
    },
    {
     "name": "stdout",
     "output_type": "stream",
     "text": [
      "trying again\n"
     ]
    },
    {
     "name": "stderr",
     "output_type": "stream",
     "text": [
      "500it [2:15:19, 14.84s/it]\n",
      "0it [01:35, ?it/s]\u001b[A"
     ]
    },
    {
     "name": "stdout",
     "output_type": "stream",
     "text": [
      "breaks at batch_idx:  0\n"
     ]
    },
    {
     "name": "stderr",
     "output_type": "stream",
     "text": [
      "\n"
     ]
    },
    {
     "name": "stdout",
     "output_type": "stream",
     "text": [
      "Observe if the numbers match:  500 500 500\n"
     ]
    },
    {
     "name": "stderr",
     "output_type": "stream",
     "text": [
      "518it [2:20:56, 16.33s/it]\n",
      "0it [01:36, ?it/s]"
     ]
    },
    {
     "name": "stdout",
     "output_type": "stream",
     "text": [
      "breaks at batch_idx:  0\n"
     ]
    },
    {
     "name": "stderr",
     "output_type": "stream",
     "text": [
      "\n"
     ]
    },
    {
     "name": "stdout",
     "output_type": "stream",
     "text": [
      "current trajectory is:  ['office2/Hard/P010/', 'abandonedfactory/Hard/P001/', 'soulcity/Hard/P002/', 'seasidetown/Easy/P000/', 'soulcity/Hard/P008/', 'hospital/Easy/P000/', 'ocean/Hard/P008/', 'oldtown/Hard/P005/', 'hospital/Easy/P034/', 'hospital/Easy/P015/', 'soulcity/Hard/P004/', 'hospital/Hard/P044/', 'neighborhood/Hard/P006/', 'japanesealley/Easy/P005/', 'hospital/Easy/P030/', 'neighborhood/Hard/P003/']\n",
      "[558, 559, 561, 561, 561, 563, 564, 570, 570, 575, 575, 577, 578, 579, 581, 587] 9119 8800\n"
     ]
    },
    {
     "name": "stderr",
     "output_type": "stream",
     "text": [
      "36it [10:22, 15.37s/it]Unable to stream download: generator raised StopIteration\n"
     ]
    },
    {
     "name": "stdout",
     "output_type": "stream",
     "text": [
      "trying again\n"
     ]
    },
    {
     "name": "stderr",
     "output_type": "stream",
     "text": [
      "47it [13:12, 14.82s/it]"
     ]
    },
    {
     "name": "stdout",
     "output_type": "stream",
     "text": [
      "trying again\n",
      "trying again\n"
     ]
    },
    {
     "name": "stderr",
     "output_type": "stream",
     "text": [
      "50it [14:10, 16.86s/it]\n",
      "0it [01:50, ?it/s]\u001b[A"
     ]
    },
    {
     "name": "stdout",
     "output_type": "stream",
     "text": [
      "breaks at batch_idx:  0\n"
     ]
    },
    {
     "name": "stderr",
     "output_type": "stream",
     "text": [
      "\n",
      "100it [27:55, 14.41s/it]\n",
      "0it [01:36, ?it/s]\u001b[A"
     ]
    },
    {
     "name": "stdout",
     "output_type": "stream",
     "text": [
      "breaks at batch_idx:  0\n"
     ]
    },
    {
     "name": "stderr",
     "output_type": "stream",
     "text": [
      "\n"
     ]
    },
    {
     "name": "stdout",
     "output_type": "stream",
     "text": [
      "Observe if the numbers match:  100 100 100\n"
     ]
    },
    {
     "name": "stderr",
     "output_type": "stream",
     "text": [
      "115it [32:58, 15.03s/it]"
     ]
    },
    {
     "name": "stdout",
     "output_type": "stream",
     "text": [
      "trying again\n"
     ]
    },
    {
     "name": "stderr",
     "output_type": "stream",
     "text": [
      "116it [33:20, 17.13s/it]Unable to stream download: generator raised StopIteration\n"
     ]
    },
    {
     "name": "stdout",
     "output_type": "stream",
     "text": [
      "trying again\n"
     ]
    },
    {
     "name": "stderr",
     "output_type": "stream",
     "text": [
      "150it [41:37, 14.26s/it]\n",
      "0it [01:37, ?it/s]\u001b[A"
     ]
    },
    {
     "name": "stdout",
     "output_type": "stream",
     "text": [
      "breaks at batch_idx:  0\n"
     ]
    },
    {
     "name": "stderr",
     "output_type": "stream",
     "text": [
      "\n"
     ]
    },
    {
     "name": "stdout",
     "output_type": "stream",
     "text": [
      "Observe if the numbers match:  150 150 150\n"
     ]
    },
    {
     "name": "stderr",
     "output_type": "stream",
     "text": [
      "200it [54:42, 14.12s/it]\n",
      "0it [01:36, ?it/s]\u001b[A"
     ]
    },
    {
     "name": "stdout",
     "output_type": "stream",
     "text": [
      "breaks at batch_idx:  0\n"
     ]
    },
    {
     "name": "stderr",
     "output_type": "stream",
     "text": [
      "\n"
     ]
    },
    {
     "name": "stdout",
     "output_type": "stream",
     "text": [
      "Observe if the numbers match:  200 200 200\n"
     ]
    },
    {
     "name": "stderr",
     "output_type": "stream",
     "text": [
      "250it [1:07:48, 14.10s/it]\n",
      "273it [1:14:37, 14.58s/it]"
     ]
    }
   ],
   "source": [
    "if args.mode == 'train':\n",
    "    train(model, args.datapath, args.checkpoint_path, args.train_iter, args.trajectory_length, args)\n",
    "elif args.mode == 'test':\n",
    "    test(model, args.datapath, args.trajectory_length, args.validation_steps, preprocess)\n",
    "else:\n",
    "    raise RuntimeError('undefined mode {}'.format(args.mode))"
   ]
  },
  {
   "cell_type": "code",
   "execution_count": null,
   "metadata": {},
   "outputs": [],
   "source": [
    "!ls ./training_progess/\n"
   ]
  },
  {
   "cell_type": "code",
   "execution_count": null,
   "metadata": {},
   "outputs": [],
   "source": [
    "\n",
    "# bc = container_client.get_blob_client(blob=image_file)\n",
    "# data = None\n",
    "# while data is None:\n",
    "#     data = bc.download_blob(timeout=5)\n",
    "\n",
    "# ee = io.BytesIO(data.content_as_bytes())\n",
    "# img=cv2.imdecode(np.asarray(bytearray(ee.read()),dtype=np.uint8), cv2.IMREAD_COLOR)\n",
    "# im_rgb = img[:, :, [2, 1, 0]] # BGR2RGB\n",
    "# return im_rgb"
   ]
  },
  {
   "cell_type": "code",
   "execution_count": null,
   "metadata": {},
   "outputs": [],
   "source": [
    "torch.get_num_interop_threads(), torch.get_num_threads()"
   ]
  },
  {
   "cell_type": "code",
   "execution_count": null,
   "metadata": {
    "colab": {},
    "colab_type": "code",
    "id": "BMNWGZRLlkCh"
   },
   "outputs": [],
   "source": [
    "\n",
    "# import gc\n",
    "gc.collect()"
   ]
  },
  {
   "cell_type": "code",
   "execution_count": null,
   "metadata": {
    "colab": {},
    "colab_type": "code",
    "id": "12KFcfWUtG_W"
   },
   "outputs": [],
   "source": [
    "!nvidia-smi"
   ]
  },
  {
   "cell_type": "markdown",
   "metadata": {
    "colab_type": "text",
    "id": "Gz498R1lu8ll"
   },
   "source": [
    "# New Section"
   ]
  }
 ],
 "metadata": {
  "accelerator": "GPU",
  "colab": {
   "collapsed_sections": [],
   "name": "deepVO_training.ipynb",
   "provenance": []
  },
  "environment": {
   "name": "pytorch-gpu.1-4.m50",
   "type": "gcloud",
   "uri": "gcr.io/deeplearning-platform-release/pytorch-gpu.1-4:m50"
  },
  "kernelspec": {
   "display_name": "Python 3",
   "language": "python",
   "name": "python3"
  },
  "language_info": {
   "codemirror_mode": {
    "name": "ipython",
    "version": 3
   },
   "file_extension": ".py",
   "mimetype": "text/x-python",
   "name": "python",
   "nbconvert_exporter": "python",
   "pygments_lexer": "ipython3",
   "version": "3.8.3"
  }
 },
 "nbformat": 4,
 "nbformat_minor": 4
}
