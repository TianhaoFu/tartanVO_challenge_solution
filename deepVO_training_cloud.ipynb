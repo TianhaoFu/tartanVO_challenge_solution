{
 "cells": [
  {
   "cell_type": "code",
   "execution_count": 1,
   "metadata": {
    "colab": {},
    "colab_type": "code",
    "id": "J6t862-ZtG5p"
   },
   "outputs": [],
   "source": [
    "# !pip install -U pip\n",
    "# !pip install sklearn\n",
    "# !pip install numpy\n",
    "# !pip install azure-storage-blob\n",
    "# !pip install opencv-python\n",
    "# !pip install torch torchvision\n",
    "# !pip install timeout_decorator"
   ]
  },
  {
   "cell_type": "code",
   "execution_count": 51,
   "metadata": {
    "colab": {},
    "colab_type": "code",
    "id": "NUik8kZ0knv7"
   },
   "outputs": [],
   "source": [
    "from deepvo import DeepVONet, argparse, train, test\n",
    "import torch"
   ]
  },
  {
   "cell_type": "code",
   "execution_count": 47,
   "metadata": {},
   "outputs": [],
   "source": [
    "from deepvo import USE_TPU, USE_CUDA\n",
    "from tartan_azure_helpers import *"
   ]
  },
  {
   "cell_type": "code",
   "execution_count": 14,
   "metadata": {
    "colab": {},
    "colab_type": "code",
    "id": "JJnrRZZ4QO1F"
   },
   "outputs": [],
   "source": [
    "\n",
    "if USE_TPU:\n",
    "    VERSION = \"20200325\"  #@param [\"1.5\" , \"20200325\", \"nightly\"]\n",
    "    !curl https://raw.githubusercontent.com/pytorch/xla/master/contrib/scripts/env-setup.py -o pytorch-xla-env-setup.py\n",
    "    !python pytorch-xla-env-setup.py --version $VERSION"
   ]
  },
  {
   "cell_type": "code",
   "execution_count": 15,
   "metadata": {},
   "outputs": [],
   "source": [
    "# torch.set_num_interop_threads(6)\n",
    "# torch.set_num_threads(32)\n"
   ]
  },
  {
   "cell_type": "code",
   "execution_count": 16,
   "metadata": {
    "colab": {},
    "colab_type": "code",
    "id": "tjMZrv6GtG51"
   },
   "outputs": [
    {
     "data": {
      "text/plain": [
       "False"
      ]
     },
     "execution_count": 16,
     "metadata": {},
     "output_type": "execute_result"
    }
   ],
   "source": [
    "torch.cuda.is_available()"
   ]
  },
  {
   "cell_type": "markdown",
   "metadata": {
    "colab_type": "text",
    "id": "2fjzCjqPttp0"
   },
   "source": []
  },
  {
   "cell_type": "code",
   "execution_count": 22,
   "metadata": {
    "colab": {},
    "colab_type": "code",
    "id": "liSKf9RotG6j"
   },
   "outputs": [
    {
     "name": "stdout",
     "output_type": "stream",
     "text": [
      "Find 18 environments..\n",
      "['abandonedfactory/', 'abandonedfactory_night/', 'amusement/', 'carwelding/', 'endofworld/', 'gascola/', 'hospital/', 'japanesealley/', 'neighborhood/', 'ocean/', 'office/', 'office2/', 'oldtown/', 'seasidetown/', 'seasonsforest/', 'seasonsforest_winter/', 'soulcity/', 'westerndesert/']\n"
     ]
    }
   ],
   "source": [
    "envlist = get_environment_list()\n",
    "print('Find {} environments..'.format(len(envlist)))\n",
    "print(envlist)"
   ]
  },
  {
   "cell_type": "code",
   "execution_count": 23,
   "metadata": {
    "colab": {},
    "colab_type": "code",
    "id": "Xx4ntuSltG6q"
   },
   "outputs": [],
   "source": [
    "envlist = ['abandonedfactory/', 'abandonedfactory_night/', 'amusement/', 'carwelding/', 'endofworld/', 'gascola/', 'hospital/', 'japanesealley/', 'neighborhood/', 'ocean/', 'office/', 'office2/', 'oldtown/', 'seasidetown/', 'seasonsforest/', 'seasonsforest_winter/', 'soulcity/', 'westerndesert/']"
   ]
  },
  {
   "cell_type": "code",
   "execution_count": 24,
   "metadata": {
    "colab": {},
    "colab_type": "code",
    "id": "KKh2twj-tG6w"
   },
   "outputs": [
    {
     "name": "stdout",
     "output_type": "stream",
     "text": [
      "Find 12 trajectories in abandonedfactory/Hard\n",
      "['abandonedfactory/Hard/P000/', 'abandonedfactory/Hard/P001/', 'abandonedfactory/Hard/P002/', 'abandonedfactory/Hard/P003/', 'abandonedfactory/Hard/P004/', 'abandonedfactory/Hard/P005/', 'abandonedfactory/Hard/P006/', 'abandonedfactory/Hard/P007/', 'abandonedfactory/Hard/P008/', 'abandonedfactory/Hard/P009/', 'abandonedfactory/Hard/P010/', 'abandonedfactory/Hard/P011/']\n"
     ]
    }
   ],
   "source": [
    "diff_level = 'Hard'\n",
    "env_ind = 0\n",
    "trajlist = get_trajectory_list(envlist[env_ind], easy_hard = diff_level)\n",
    "print('Find {} trajectories in {}'.format(len(trajlist), envlist[env_ind]+diff_level))\n",
    "print(trajlist)"
   ]
  },
  {
   "cell_type": "code",
   "execution_count": 25,
   "metadata": {
    "colab": {},
    "colab_type": "code",
    "id": "3LL0t1GDtG61"
   },
   "outputs": [],
   "source": [
    "global_data_list = []"
   ]
  },
  {
   "cell_type": "code",
   "execution_count": 26,
   "metadata": {
    "colab": {},
    "colab_type": "code",
    "id": "OyMkx0EctG68"
   },
   "outputs": [],
   "source": [
    "# [[ global_data_list.extend(get_trajectory_list(env, easy_hard=diff_level)) for diff_level in [\"Hard\", \"Easy\"]] for env in envlist]"
   ]
  },
  {
   "cell_type": "code",
   "execution_count": 27,
   "metadata": {
    "colab": {},
    "colab_type": "code",
    "id": "B8OU6aOQtG7D"
   },
   "outputs": [],
   "source": [
    "# train_list, test_list = train_test_split(global_data_list, test_size=10, random_state=12)"
   ]
  },
  {
   "cell_type": "code",
   "execution_count": 28,
   "metadata": {
    "colab": {},
    "colab_type": "code",
    "id": "FcRzrDMWtG7L"
   },
   "outputs": [],
   "source": [
    "# train_list, val_list = train_test_split(train_list, test_size=10, random_state=12)"
   ]
  },
  {
   "cell_type": "code",
   "execution_count": 39,
   "metadata": {
    "colab": {},
    "colab_type": "code",
    "id": "CjtDr9aNtG91"
   },
   "outputs": [],
   "source": [
    " class fake_arg_parser(argparse.ArgumentParser):\n",
    "    def __init__(self,checkpoint_path, datapath, \n",
    "                 mode='train', checkpoint=None,\n",
    "                 bsize=16, trajectory_length=8, \n",
    "                 lr=0.0003, momentum=0.5, \n",
    "                 weight_decay=1e-4, tau=0.001, \n",
    "                 train_iter=1, validation_steps=100,\n",
    "                 epsilon=50000):\n",
    "        self.mode = mode\n",
    "        self.datapath = datapath\n",
    "        self.bsize = bsize\n",
    "        self.checkpoint_path =checkpoint_path\n",
    "        self.checkpoint = checkpoint\n",
    "        self.lr = lr\n",
    "        self.momentum = momentum\n",
    "        self.weight_decay =weight_decay\n",
    "        self.tau =tau\n",
    "        self.train_iter = train_iter\n",
    "        self.validation_steps = validation_steps\n",
    "        self.epsilon = epsilon\n",
    "        self.trajectory_length = trajectory_length"
   ]
  },
  {
   "cell_type": "code",
   "execution_count": 41,
   "metadata": {},
   "outputs": [],
   "source": [
    "train_list = ['office/Hard/P003/',\n",
    " 'seasonsforest/Hard/P006/',\n",
    " 'neighborhood/Hard/P009/',\n",
    " 'seasonsforest/Easy/P002/',\n",
    " 'hospital/Easy/P012/',\n",
    " 'westerndesert/Hard/P007/',\n",
    " 'carwelding/Easy/P006/',\n",
    " 'office2/Easy/P010/',\n",
    " 'abandonedfactory_night/Easy/P012/',\n",
    " 'ocean/Easy/P010/',\n",
    " 'westerndesert/Hard/P001/',\n",
    " 'hospital/Easy/P014/',\n",
    " 'hospital/Easy/P035/',\n",
    " 'hospital/Hard/P038/',\n",
    " 'office2/Easy/P007/',\n",
    " 'hospital/Hard/P049/',\n",
    " 'seasidetown/Hard/P001/',\n",
    " 'abandonedfactory_night/Hard/P009/',\n",
    " 'ocean/Hard/P003/',\n",
    " 'seasidetown/Hard/P000/',\n",
    " 'ocean/Easy/P006/',\n",
    " 'westerndesert/Hard/P006/',\n",
    " 'seasonsforest/Easy/P001/',\n",
    " 'abandonedfactory_night/Hard/P002/',\n",
    " 'seasonsforest/Hard/P002/',\n",
    " 'westerndesert/Easy/P001/',\n",
    " 'seasonsforest/Hard/P004/',\n",
    " 'hospital/Easy/P010/',\n",
    " 'seasonsforest_winter/Hard/P016/',\n",
    " 'westerndesert/Easy/P011/',\n",
    " 'hospital/Easy/P011/',\n",
    " 'seasonsforest_winter/Easy/P006/',\n",
    " 'abandonedfactory_night/Hard/P011/',\n",
    " 'seasidetown/Easy/P003/',\n",
    " 'hospital/Easy/P017/',\n",
    " 'seasidetown/Easy/P002/',\n",
    " 'hospital/Easy/P004/',\n",
    " 'abandonedfactory/Easy/P009/',\n",
    " 'westerndesert/Easy/P012/',\n",
    " 'hospital/Easy/P013/',\n",
    " 'hospital/Easy/P033/',\n",
    " 'hospital/Easy/P025/',\n",
    " 'hospital/Hard/P045/',\n",
    " 'abandonedfactory/Hard/P006/',\n",
    " 'gascola/Hard/P000/',\n",
    " 'office2/Hard/P001/',\n",
    " 'carwelding/Hard/P003/',\n",
    " 'office2/Hard/P006/',\n",
    " 'carwelding/Easy/P007/',\n",
    " 'westerndesert/Easy/P005/',\n",
    " 'soulcity/Hard/P009/',\n",
    " 'soulcity/Easy/P003/',\n",
    " 'hospital/Easy/P022/',\n",
    " 'japanesealley/Hard/P004/',\n",
    " 'hospital/Easy/P008/',\n",
    " 'neighborhood/Easy/P015/',\n",
    " 'seasidetown/Hard/P003/',\n",
    " 'hospital/Easy/P028/',\n",
    " 'abandonedfactory_night/Easy/P009/',\n",
    " 'ocean/Easy/P009/',\n",
    " 'hospital/Easy/P027/',\n",
    " 'gascola/Hard/P001/',\n",
    " 'hospital/Easy/P024/',\n",
    " 'office2/Easy/P000/',\n",
    " 'hospital/Easy/P019/',\n",
    " 'gascola/Easy/P001/',\n",
    " 'hospital/Easy/P002/',\n",
    " 'hospital/Easy/P023/',\n",
    " 'ocean/Hard/P005/',\n",
    " 'seasonsforest/Easy/P011/',\n",
    " 'westerndesert/Easy/P002/',\n",
    " 'japanesealley/Hard/P002/',\n",
    " 'abandonedfactory_night/Hard/P006/',\n",
    " 'carwelding/Easy/P004/',\n",
    " 'japanesealley/Hard/P000/',\n",
    " 'seasonsforest_winter/Easy/P008/',\n",
    " 'seasonsforest_winter/Hard/P015/',\n",
    " 'hospital/Hard/P037/',\n",
    " 'seasidetown/Easy/P001/',\n",
    " 'hospital/Easy/P009/',\n",
    " 'hospital/Easy/P036/',\n",
    " 'carwelding/Easy/P005/',\n",
    " 'westerndesert/Easy/P008/',\n",
    " 'hospital/Hard/P040/',\n",
    " 'ocean/Easy/P005/',\n",
    " 'seasonsforest/Easy/P008/',\n",
    " 'hospital/Easy/P031/',\n",
    " 'hospital/Easy/P026/',\n",
    " 'oldtown/Hard/P004/',\n",
    " 'carwelding/Hard/P000/',\n",
    " 'abandonedfactory_night/Easy/P002/',\n",
    " 'westerndesert/Easy/P007/',\n",
    " 'seasonsforest/Easy/P010/',\n",
    " 'seasonsforest/Easy/P007/',\n",
    " 'abandonedfactory_night/Hard/P014/',\n",
    " 'seasonsforest_winter/Easy/P009/',\n",
    " 'westerndesert/Hard/P004/',\n",
    " 'abandonedfactory_night/Hard/P001/',\n",
    " 'endofworld/Easy/P001/',\n",
    " 'hospital/Easy/P003/',\n",
    " 'hospital/Hard/P046/',\n",
    " 'office2/Hard/P007/',\n",
    " 'westerndesert/Easy/P010/',\n",
    " 'seasonsforest_winter/Hard/P014/',\n",
    " 'ocean/Easy/P001/',\n",
    " 'soulcity/Hard/P001/',\n",
    " 'endofworld/Hard/P005/',\n",
    " 'seasonsforest/Hard/P005/',\n",
    " 'hospital/Easy/P021/',\n",
    " 'hospital/Easy/P016/',\n",
    " 'ocean/Hard/P004/',\n",
    " 'hospital/Hard/P048/',\n",
    " 'hospital/Easy/P005/',\n",
    " 'office/Hard/P006/',\n",
    " 'neighborhood/Hard/P013/',\n",
    " 'soulcity/Easy/P007/',\n",
    " 'endofworld/Hard/P002/',\n",
    " 'oldtown/Hard/P006/',\n",
    " 'seasidetown/Easy/P004/',\n",
    " 'carwelding/Hard/P002/',\n",
    " 'japanesealley/Easy/P007/',\n",
    " 'westerndesert/Hard/P003/',\n",
    " 'amusement/Hard/P000/',\n",
    " 'ocean/Hard/P009/',\n",
    " 'ocean/Hard/P001/',\n",
    " 'neighborhood/Easy/P002/',\n",
    " 'ocean/Easy/P012/',\n",
    " 'abandonedfactory_night/Hard/P010/',\n",
    " 'ocean/Easy/P002/',\n",
    " 'seasonsforest_winter/Hard/P013/',\n",
    " 'amusement/Easy/P007/',\n",
    " 'hospital/Hard/P047/',\n",
    " 'neighborhood/Hard/P007/',\n",
    " 'amusement/Hard/P001/',\n",
    " 'westerndesert/Easy/P006/',\n",
    " 'office2/Easy/P005/',\n",
    " 'endofworld/Easy/P007/',\n",
    " 'endofworld/Easy/P009/',\n",
    " 'seasonsforest/Hard/P001/',\n",
    " 'amusement/Hard/P007/',\n",
    " 'hospital/Hard/P042/',\n",
    " 'soulcity/Easy/P002/',\n",
    " 'ocean/Easy/P011/',\n",
    " 'neighborhood/Hard/P014/',\n",
    " 'office2/Hard/P010/',\n",
    " 'abandonedfactory/Hard/P001/',\n",
    " 'soulcity/Hard/P002/',\n",
    " 'seasidetown/Easy/P000/',\n",
    " 'soulcity/Hard/P008/',\n",
    " 'hospital/Easy/P000/',\n",
    " 'ocean/Hard/P008/',\n",
    " 'oldtown/Hard/P005/',\n",
    " 'hospital/Easy/P034/',\n",
    " 'hospital/Easy/P015/',\n",
    " 'soulcity/Hard/P004/',\n",
    " 'hospital/Hard/P044/',\n",
    " 'neighborhood/Hard/P006/',\n",
    " 'japanesealley/Easy/P005/',\n",
    " 'hospital/Easy/P030/',\n",
    " 'neighborhood/Hard/P003/',\n",
    " 'hospital/Hard/P041/',\n",
    " 'westerndesert/Hard/P005/',\n",
    " 'endofworld/Easy/P008/',\n",
    " 'japanesealley/Hard/P005/',\n",
    " 'ocean/Easy/P013/',\n",
    " 'endofworld/Easy/P003/',\n",
    " 'abandonedfactory_night/Hard/P005/',\n",
    " 'abandonedfactory_night/Easy/P010/',\n",
    " 'westerndesert/Easy/P009/',\n",
    " 'office2/Easy/P003/',\n",
    " 'neighborhood/Hard/P015/',\n",
    " 'hospital/Easy/P006/',\n",
    " 'ocean/Hard/P002/',\n",
    " 'seasidetown/Easy/P005/',\n",
    " 'endofworld/Hard/P001/',\n",
    " 'abandonedfactory/Hard/P011/',\n",
    " 'abandonedfactory_night/Easy/P005/',\n",
    " 'seasonsforest/Easy/P004/',\n",
    " 'hospital/Easy/P029/',\n",
    " 'oldtown/Easy/P004/',\n",
    " 'amusement/Easy/P008/',\n",
    " 'soulcity/Hard/P000/',\n",
    " 'soulcity/Easy/P009/',\n",
    " 'office/Hard/P001/',\n",
    " 'japanesealley/Easy/P002/',\n",
    " 'japanesealley/Hard/P001/',\n",
    " 'gascola/Hard/P003/',\n",
    " 'ocean/Hard/P007/',\n",
    " 'office/Hard/P004/',\n",
    " 'seasonsforest_winter/Hard/P012/',\n",
    " 'amusement/Hard/P003/',\n",
    " 'office2/Hard/P002/',\n",
    " 'office2/Easy/P011/',\n",
    " 'gascola/Hard/P007/',\n",
    " 'seasonsforest/Easy/P009/',\n",
    " 'neighborhood/Easy/P005/',\n",
    " 'oldtown/Hard/P007/',\n",
    " 'soulcity/Easy/P012/',\n",
    " 'abandonedfactory/Easy/P006/',\n",
    " 'amusement/Easy/P001/',\n",
    " 'ocean/Hard/P006/',\n",
    " 'gascola/Hard/P009/',\n",
    " 'abandonedfactory/Hard/P003/',\n",
    " 'japanesealley/Easy/P004/',\n",
    " 'soulcity/Hard/P003/',\n",
    " 'endofworld/Easy/P002/',\n",
    " 'oldtown/Hard/P000/',\n",
    " 'amusement/Hard/P005/',\n",
    " 'amusement/Hard/P006/',\n",
    " 'abandonedfactory_night/Hard/P008/',\n",
    " 'oldtown/Easy/P005/',\n",
    " 'office2/Hard/P008/',\n",
    " 'carwelding/Hard/P001/',\n",
    " 'westerndesert/Hard/P002/',\n",
    " 'abandonedfactory_night/Easy/P001/',\n",
    " 'japanesealley/Easy/P003/',\n",
    " 'neighborhood/Easy/P017/',\n",
    " 'seasonsforest_winter/Easy/P001/',\n",
    " 'abandonedfactory_night/Hard/P003/',\n",
    " 'neighborhood/Easy/P007/',\n",
    " 'seasidetown/Easy/P008/',\n",
    " 'neighborhood/Hard/P017/',\n",
    " 'oldtown/Hard/P001/',\n",
    " 'office/Hard/P007/',\n",
    " 'abandonedfactory/Hard/P004/',\n",
    " 'seasidetown/Hard/P002/',\n",
    " 'office/Hard/P005/',\n",
    " 'neighborhood/Easy/P012/',\n",
    " 'office2/Easy/P006/',\n",
    " 'seasidetown/Easy/P009/',\n",
    " 'endofworld/Hard/P000/',\n",
    " 'abandonedfactory/Hard/P008/',\n",
    " 'westerndesert/Hard/P000/',\n",
    " 'abandonedfactory/Easy/P002/',\n",
    " 'oldtown/Hard/P002/',\n",
    " 'seasidetown/Hard/P004/',\n",
    " 'seasidetown/Easy/P007/',\n",
    " 'office/Easy/P005/',\n",
    " 'neighborhood/Easy/P018/',\n",
    " 'seasonsforest_winter/Easy/P004/',\n",
    " 'carwelding/Easy/P001/',\n",
    " 'seasonsforest_winter/Easy/P002/',\n",
    " 'endofworld/Easy/P004/',\n",
    " 'neighborhood/Hard/P011/',\n",
    " 'abandonedfactory_night/Easy/P006/',\n",
    " 'westerndesert/Easy/P013/',\n",
    " 'office/Hard/P002/',\n",
    " 'abandonedfactory/Hard/P007/',\n",
    " 'hospital/Easy/P007/',\n",
    " 'ocean/Hard/P000/',\n",
    " 'hospital/Easy/P032/',\n",
    " 'abandonedfactory/Hard/P005/',\n",
    " 'seasidetown/Easy/P006/',\n",
    " 'neighborhood/Hard/P016/',\n",
    " 'neighborhood/Easy/P010/',\n",
    " 'office2/Hard/P009/',\n",
    " 'abandonedfactory_night/Hard/P007/',\n",
    " 'amusement/Hard/P004/',\n",
    " 'seasonsforest_winter/Easy/P003/',\n",
    " 'japanesealley/Easy/P001/',\n",
    " 'soulcity/Easy/P005/',\n",
    " 'neighborhood/Hard/P002/',\n",
    " 'office/Easy/P006/',\n",
    " 'soulcity/Easy/P004/',\n",
    " 'westerndesert/Easy/P004/',\n",
    " 'abandonedfactory/Easy/P005/',\n",
    " 'abandonedfactory_night/Easy/P003/',\n",
    " 'endofworld/Easy/P006/',\n",
    " 'soulcity/Easy/P001/',\n",
    " 'neighborhood/Easy/P021/',\n",
    " 'neighborhood/Easy/P009/',\n",
    " 'neighborhood/Easy/P004/',\n",
    " 'abandonedfactory/Hard/P010/',\n",
    " 'ocean/Easy/P004/',\n",
    " 'hospital/Hard/P043/',\n",
    " 'abandonedfactory_night/Easy/P004/',\n",
    " 'soulcity/Easy/P011/',\n",
    " 'neighborhood/Hard/P008/',\n",
    " 'office2/Hard/P005/',\n",
    " 'seasonsforest_winter/Easy/P007/',\n",
    " 'abandonedfactory/Hard/P000/',\n",
    " 'oldtown/Hard/P008/',\n",
    " 'neighborhood/Hard/P012/',\n",
    " 'ocean/Easy/P008/',\n",
    " 'seasonsforest_winter/Hard/P017/',\n",
    " 'neighborhood/Hard/P004/',\n",
    " 'endofworld/Easy/P005/',\n",
    " 'abandonedfactory_night/Hard/P013/',\n",
    " 'carwelding/Easy/P002/',\n",
    " 'ocean/Easy/P000/',\n",
    " 'soulcity/Easy/P000/',\n",
    " 'soulcity/Easy/P008/',\n",
    " 'abandonedfactory/Easy/P004/',\n",
    " 'abandonedfactory_night/Hard/P000/',\n",
    " 'amusement/Easy/P002/',\n",
    " 'amusement/Easy/P004/',\n",
    " 'neighborhood/Easy/P016/',\n",
    " 'abandonedfactory_night/Hard/P012/',\n",
    " 'office/Easy/P001/',\n",
    " 'gascola/Hard/P005/',\n",
    " 'gascola/Hard/P002/',\n",
    " 'office/Easy/P000/',\n",
    " 'seasonsforest_winter/Hard/P011/',\n",
    " 'neighborhood/Easy/P020/',\n",
    " 'neighborhood/Easy/P008/',\n",
    " 'gascola/Hard/P008/',\n",
    " 'soulcity/Easy/P010/',\n",
    " 'office2/Easy/P008/',\n",
    " 'office2/Hard/P003/',\n",
    " 'gascola/Hard/P006/',\n",
    " 'gascola/Easy/P003/',\n",
    " 'endofworld/Easy/P000/',\n",
    " 'neighborhood/Hard/P010/',\n",
    " 'amusement/Easy/P006/',\n",
    " 'abandonedfactory_night/Easy/P007/',\n",
    " 'amusement/Easy/P003/',\n",
    " 'seasonsforest_winter/Hard/P010/',\n",
    " 'office/Easy/P004/',\n",
    " 'office2/Easy/P009/',\n",
    " 'office/Easy/P002/',\n",
    " 'oldtown/Easy/P001/',\n",
    " 'neighborhood/Easy/P014/',\n",
    " 'abandonedfactory/Easy/P008/',\n",
    " 'neighborhood/Easy/P019/',\n",
    " 'oldtown/Easy/P000/',\n",
    " 'office2/Easy/P004/',\n",
    " 'oldtown/Easy/P002/',\n",
    " 'seasonsforest_winter/Easy/P005/',\n",
    " 'office/Easy/P003/',\n",
    " 'abandonedfactory_night/Easy/P008/',\n",
    " 'gascola/Hard/P004/',\n",
    " 'oldtown/Easy/P007/',\n",
    " 'abandonedfactory_night/Easy/P011/',\n",
    " 'soulcity/Easy/P006/',\n",
    " 'neighborhood/Hard/P001/',\n",
    " 'neighborhood/Easy/P003/',\n",
    " 'abandonedfactory/Hard/P009/',\n",
    " 'abandonedfactory/Easy/P000/',\n",
    " 'neighborhood/Hard/P000/',\n",
    " 'seasonsforest_winter/Easy/P000/',\n",
    " 'gascola/Easy/P007/',\n",
    " 'neighborhood/Easy/P013/',\n",
    " 'gascola/Easy/P006/',\n",
    " 'abandonedfactory_night/Easy/P013/',\n",
    " 'neighborhood/Easy/P001/',\n",
    " 'gascola/Easy/P004/',\n",
    " 'abandonedfactory/Easy/P011/',\n",
    " 'abandonedfactory/Easy/P010/',\n",
    " 'neighborhood/Easy/P000/']"
   ]
  },
  {
   "cell_type": "code",
   "execution_count": 42,
   "metadata": {
    "colab": {},
    "colab_type": "code",
    "id": "VGt-JZgutG-E"
   },
   "outputs": [],
   "source": [
    "args = fake_arg_parser(\"checkpoints_v2\", train_list)#, checkpoint=\"checkpoints_v2/checkpoint_1_seasonsforest.Easy.P008..amusement.Easy.P006..pth\"  )"
   ]
  },
  {
   "cell_type": "code",
   "execution_count": 43,
   "metadata": {
    "colab": {},
    "colab_type": "code",
    "id": "lbWI9k8BtG-c"
   },
   "outputs": [],
   "source": [
    "if USE_TPU:\n",
    "    import torch_xla\n",
    "    import torch_xla.core.xla_model as xm\n",
    "    device_tpu = xm.xla_device()\n",
    "model = DeepVONet()"
   ]
  },
  {
   "cell_type": "code",
   "execution_count": 48,
   "metadata": {
    "colab": {},
    "colab_type": "code",
    "id": "I7NP_wNGtG-v"
   },
   "outputs": [],
   "source": [
    "if args.checkpoint is not None:\n",
    "    print(\"loading\")\n",
    "    checkpoint = torch.load(args.checkpoint, map_location=torch.device('cpu'))\n",
    "    model.load_state_dict(checkpoint['state_dict'])\n",
    "if USE_CUDA:\n",
    "    model.cuda()\n",
    "if USE_TPU:\n",
    "    model = model.to(device_tpu)\n"
   ]
  },
  {
   "cell_type": "code",
   "execution_count": null,
   "metadata": {
    "colab": {},
    "colab_type": "code",
    "id": "Emfi4_OetG_M"
   },
   "outputs": [
    {
     "name": "stdout",
     "output_type": "stream",
     "text": [
      "[345, 439, 346, 1432, 929, 434, 399, 520, 308, 1447] 6599 2980\n",
      "current trajectory is:  ['office/Hard/P003/', 'seasonsforest/Hard/P006/', 'neighborhood/Hard/P009/', 'seasonsforest/Easy/P002/', 'hospital/Easy/P012/', 'westerndesert/Hard/P007/', 'carwelding/Easy/P006/', 'office2/Easy/P010/', 'abandonedfactory_night/Easy/P012/', 'ocean/Easy/P010/', 'westerndesert/Hard/P001/', 'hospital/Easy/P014/', 'hospital/Easy/P035/', 'hospital/Hard/P038/', 'office2/Easy/P007/', 'hospital/Hard/P049/']\n"
     ]
    },
    {
     "name": "stderr",
     "output_type": "stream",
     "text": [
      "\r",
      "0it [00:00, ?it/s]"
     ]
    },
    {
     "name": "stdout",
     "output_type": "stream",
     "text": [
      "[300, 300, 301, 301, 302, 303, 304, 304, 305, 306, 307, 307, 307, 308, 310, 311] 4876 4672\n"
     ]
    },
    {
     "name": "stderr",
     "output_type": "stream",
     "text": [
      "Unable to stream download: generator raised StopIteration\n"
     ]
    },
    {
     "name": "stdout",
     "output_type": "stream",
     "text": [
      "trying again\n"
     ]
    },
    {
     "name": "stderr",
     "output_type": "stream",
     "text": [
      "3it [07:30, 175.89s/it]Unable to stream download: generator raised StopIteration\n"
     ]
    },
    {
     "name": "stdout",
     "output_type": "stream",
     "text": [
      "trying again\n"
     ]
    },
    {
     "name": "stderr",
     "output_type": "stream",
     "text": [
      "6it [12:36, 126.74s/it]Unable to stream download: generator raised StopIteration\n"
     ]
    },
    {
     "name": "stdout",
     "output_type": "stream",
     "text": [
      "trying again\n"
     ]
    },
    {
     "name": "stderr",
     "output_type": "stream",
     "text": [
      "Unable to stream download: generator raised StopIteration\n"
     ]
    },
    {
     "name": "stdout",
     "output_type": "stream",
     "text": [
      "trying again\n"
     ]
    },
    {
     "name": "stderr",
     "output_type": "stream",
     "text": [
      "Unable to stream download: generator raised StopIteration\n"
     ]
    },
    {
     "name": "stdout",
     "output_type": "stream",
     "text": [
      "trying again\n"
     ]
    },
    {
     "name": "stderr",
     "output_type": "stream",
     "text": [
      "Unable to stream download: generator raised StopIteration\n"
     ]
    },
    {
     "name": "stdout",
     "output_type": "stream",
     "text": [
      "trying again\n",
      "trying again\n"
     ]
    },
    {
     "name": "stderr",
     "output_type": "stream",
     "text": [
      "7it [15:00, 131.88s/it]Unable to stream download: generator raised StopIteration\n"
     ]
    },
    {
     "name": "stdout",
     "output_type": "stream",
     "text": [
      "trying again\n"
     ]
    },
    {
     "name": "stderr",
     "output_type": "stream",
     "text": [
      "Unable to stream download: generator raised StopIteration\n"
     ]
    },
    {
     "name": "stdout",
     "output_type": "stream",
     "text": [
      "trying again\n"
     ]
    },
    {
     "name": "stderr",
     "output_type": "stream",
     "text": [
      "Unable to stream download: generator raised StopIteration\n"
     ]
    },
    {
     "name": "stdout",
     "output_type": "stream",
     "text": [
      "trying again\n"
     ]
    },
    {
     "name": "stderr",
     "output_type": "stream",
     "text": [
      "\r",
      "8it [16:54, 126.38s/it]"
     ]
    }
   ],
   "source": [
    "if args.mode == 'train':\n",
    "    train(model, args.datapath, args.checkpoint_path, args.train_iter, args.trajectory_length, args)\n",
    "elif args.mode == 'test':\n",
    "    test(model, args.datapath, args.trajectory_length, args.validation_steps, preprocess)\n",
    "else:\n",
    "    raise RuntimeError('undefined mode {}'.format(args.mode))"
   ]
  },
  {
   "cell_type": "code",
   "execution_count": null,
   "metadata": {},
   "outputs": [],
   "source": [
    "!ls ./training_progess/\n"
   ]
  },
  {
   "cell_type": "code",
   "execution_count": null,
   "metadata": {},
   "outputs": [],
   "source": [
    "torch.get_num_interop_threads(), torch.get_num_threads()"
   ]
  },
  {
   "cell_type": "code",
   "execution_count": null,
   "metadata": {
    "colab": {},
    "colab_type": "code",
    "id": "BMNWGZRLlkCh"
   },
   "outputs": [],
   "source": [
    "\n",
    "# import gc\n",
    "gc.collect()"
   ]
  },
  {
   "cell_type": "code",
   "execution_count": null,
   "metadata": {
    "colab": {},
    "colab_type": "code",
    "id": "12KFcfWUtG_W"
   },
   "outputs": [],
   "source": [
    "!nvidia-smi"
   ]
  },
  {
   "cell_type": "markdown",
   "metadata": {
    "colab_type": "text",
    "id": "Gz498R1lu8ll"
   },
   "source": [
    "# New Section"
   ]
  }
 ],
 "metadata": {
  "accelerator": "GPU",
  "colab": {
   "collapsed_sections": [],
   "name": "deepVO_training.ipynb",
   "provenance": []
  },
  "environment": {
   "name": "pytorch-gpu.1-4.m50",
   "type": "gcloud",
   "uri": "gcr.io/deeplearning-platform-release/pytorch-gpu.1-4:m50"
  },
  "kernelspec": {
   "display_name": "Python 3",
   "language": "python",
   "name": "python3"
  },
  "language_info": {
   "codemirror_mode": {
    "name": "ipython",
    "version": 3
   },
   "file_extension": ".py",
   "mimetype": "text/x-python",
   "name": "python",
   "nbconvert_exporter": "python",
   "pygments_lexer": "ipython3",
   "version": "3.8.3"
  }
 },
 "nbformat": 4,
 "nbformat_minor": 4
}
